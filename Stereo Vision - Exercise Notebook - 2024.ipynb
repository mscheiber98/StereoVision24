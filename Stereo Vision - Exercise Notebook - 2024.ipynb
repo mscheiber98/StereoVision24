{
 "cells": [
  {
   "cell_type": "markdown",
   "id": "bc05038d-ddd1-4b22-8a9c-89142e6f1681",
   "metadata": {},
   "source": [
    "# Stereo Matching - Exercise 2024\n",
    "**Goal:** The goal of the practical part of this course is the implementation of a local stereo matching algorithm based on the paper Hosni et al. “REAL-TIME LOCAL STEREO MATCHING USING GUIDED IMAGE FILTERING”. The paper can be downloaded from the TUWEL course.  The exercise is split into multiple parts; during the first task, you will implement a simple block-based stereo algorithm. In the second part, you will refine the previous results using guided filtering. After that, you will have to implement a post-processing procedure to enhance the quality of your final disparity map. For the final part of this exercise, we will calculate evaluation metrics to quantitatively assess the result.\n",
    "\n",
    "**Formalities:** This exercise is part of the VU Stereo Vision (188.513). The LV consists of the lecture, and the corresponding written exam on the 26. June 2024 at 15:00, and this exercise which is due on the 12. June 2024 at 23:59. Each of those is mandatory and needs to be passed, where the final grade is made up of 50% from the exam and 50% of this exercise. Each of the four tasks within this exercise is mandatory and you must get at least 50% in each of them to get a passing grade. The exercise should be conducted in groups of two. Insert your code at the `#TODO` tags. You may use any functions available in Numpy and OpenCV to solve the tasks. The exercise description is in the corresponding exercise sheet, so please read this carefully.\n",
    "\n",
    "**Submission:** The deadline for this exercise is the 12. June 2024 at 23:59 and the file must be uploaded via the TUWEL course. The submission must be a zip file containing your Jupyter Notebook and the notebook exported as an html file.\n",
    "\n",
    "**Contact:** If you have any questions about the exercise, please post them in the exercise forum in TUWEL and we will answer them in a timely manner. "
   ]
  },
  {
   "cell_type": "markdown",
   "id": "cb976409-5587-4f0f-bdf4-bf5b536b9951",
   "metadata": {},
   "source": [
    "**Your names and student ID:** "
   ]
  },
  {
   "cell_type": "markdown",
   "id": "51b9c409-963f-4e40-9f84-b5eba03f7451",
   "metadata": {},
   "source": [
    "## Imports and configuration"
   ]
  },
  {
   "cell_type": "code",
   "execution_count": 3,
   "id": "f674d574",
   "metadata": {},
   "outputs": [
    {
     "name": "stdout",
     "output_type": "stream",
     "text": [
      "Jupyter compare_view v0.2.4\n"
     ]
    }
   ],
   "source": [
    "## Imports and configuration\n",
    "import numpy as np\n",
    "import cv2\n",
    "import jupyter_compare_view\n",
    "import guided_filter\n",
    "\n",
    "from tqdm.notebook import trange, tqdm\n",
    "from matplotlib import pyplot as plt\n",
    "from joblib import Parallel, delayed\n",
    "\n",
    "plt.rcParams['figure.figsize'] = [10, 5] # controls plot size in inch"
   ]
  },
  {
   "cell_type": "markdown",
   "id": "3fc860e1",
   "metadata": {},
   "source": [
    "## Task 1 - Cost Volume Calculation (25 points)\n",
    "- Read and display input images. (5 points)\n",
    "- Compute cost volume with color cost and gradient cost terms. (10 points)\n",
    "- Apply average filter and select best disparity values from cost volume. (5 points)\n",
    "- Find suitable parameters and visualize disparity. (5 points)  \n"
   ]
  },
  {
   "cell_type": "markdown",
   "id": "f0377412-3e5f-4a65-960f-bb28854908aa",
   "metadata": {},
   "source": [
    "#### Read and display input images"
   ]
  },
  {
   "cell_type": "code",
   "execution_count": 4,
   "id": "ae64234c",
   "metadata": {},
   "outputs": [],
   "source": [
    "# image paths\n",
    "left_image_path = 'scene1.row3.col3.ppm' # load tsukuba images\n",
    "right_image_path = 'scene1.row3.col5.ppm'\n",
    "gt_path = 'truedisp.row3.col3.pgm'\n",
    "gt_scale = 0 # HINT: find information about how to scale the ground truth disparity on the middleburry website\n",
    "\n",
    "def read_image(image_path):\n",
    "    # TODO: read input images\n",
    "    return np.zeros((100, 100, 3))\n",
    "\n",
    "left_image = read_image(left_image_path)\n",
    "right_image = read_image(right_image_path)\n",
    "\n",
    "def plot_compare(image, disparity, height):\n",
    "    return jupyter_compare_view.compare(image, disparity, height=height)"
   ]
  },
  {
   "cell_type": "markdown",
   "id": "119d7a07",
   "metadata": {
    "editable": "False"
   },
   "source": [
    "#### Implement cost volume calculation"
   ]
  },
  {
   "cell_type": "code",
   "execution_count": 5,
   "id": "891a077a",
   "metadata": {},
   "outputs": [],
   "source": [
    "def compute_cost_volume(left_image, right_image, max_disparity, alpha, Tc, Tg):\n",
    "    # TODO: implement\n",
    "    # optional: use joblib for parallelization\n",
    "    cost_volume = np.zeros((left_image.shape[0], left_image.shape[1], max_disparity))\n",
    "    return cost_volume # (H, W, max_disparity)"
   ]
  },
  {
   "cell_type": "markdown",
   "id": "e6673ae8-a597-4584-bc82-b22148cfe06c",
   "metadata": {
    "editable": "False"
   },
   "source": [
    "#### Apply average filter and select best disparity values from cost volume"
   ]
  },
  {
   "cell_type": "code",
   "execution_count": 6,
   "id": "607147f2-6a03-4775-99b6-42725cf18936",
   "metadata": {},
   "outputs": [],
   "source": [
    "def average_filter(cost_volume, kernel_size):\n",
    "    # TODO: implement \n",
    "    return cost_volume\n",
    "    \n",
    "def compute_disparity_from_cost_volume(cost_volume):\n",
    "    # TODO: implement\n",
    "    return np.zeros(cost_volume.shape[0:2])"
   ]
  },
  {
   "cell_type": "markdown",
   "id": "8464659a",
   "metadata": {},
   "source": [
    "#### Compute and visualize your results"
   ]
  },
  {
   "cell_type": "code",
   "execution_count": 7,
   "id": "661a22c2-06f7-4d97-8904-20545d6ec980",
   "metadata": {
    "tags": []
   },
   "outputs": [
    {
     "data": {
      "text/html": [
       "<script>\n",
       "    var compare_view;(()=>{\"use strict\";var e,t,c={d:(e,t)=>{for(var n in t)c.o(t,n)&&!c.o(e,n)&&Object.defineProperty(e,n,{enumerable:!0,get:t[n]})},o:(e,t)=>Object.prototype.hasOwnProperty.call(e,t),r:e=>{\"undefined\"!=typeof Symbol&&Symbol.toStringTag&&Object.defineProperty(e,Symbol.toStringTag,{value:\"Module\"}),Object.defineProperty(e,\"__esModule\",{value:!0})}},n={};function o(e){var t,c;let n=null===(t=e[0])||void 0===t?void 0:t.element.width,o=null===(c=e[0])||void 0===c?void 0:c.element.height;for(let t of e)t.element.width==n&&t.element.height==o||console.log(\"Warning: images don't have the same resolution\"),n=Math.max(n,t.element.width),o=Math.max(o,t.element.height);return[n,o]}function a(e){return e.images.unshift(e.images.pop()),!0}function i(e,c,n){c.onchange=()=>{c.checked?(e.next_mode=n,b(e,t.change_mode)):r(e)}}function r(t){var c;if(null!=t.ctrl_data)switch((c=t.ctrl_data).circle_check.checked=!1,c.horizontal_check.checked=!1,c.vertical_check.checked=!1,t.current_mode){case e.circle:t.ctrl_data.circle_check.checked=!0;break;case e.horizontal:t.ctrl_data.horizontal_check.checked=!0;break;case e.vertical:t.ctrl_data.vertical_check.checked=!0;break;default:throw`unsupported mode: ${t.current_mode}`}}function s(e,t){let c=e.canvas.getBoundingClientRect(),n=e.width/c.width,o=e.height/c.height;e.mouse_pos=[(t.clientX-c.left)*n,(t.clientY-c.top)*o]}function l(e){return e.render_circle=!0,e.canvas.style.cursor=\"none\",!1}function u(e){return x(e,t.update_circle),e.canvas.style.cursor=\"default\",!0}function d(e,t,c){e.ctx.beginPath(),e.ctx.arc(e.mouse_pos[0],e.mouse_pos[1],e.circle_size,t,c),c-t!=2*Math.PI&&e.ctx.lineTo(e.mouse_pos[0],e.mouse_pos[1]),e.ctx.closePath()}function _(e,t,c,n){var o;d(e,c,n),e.ctx.save(),e.ctx.clip(),e.ctx.drawImage(null===(o=e.images[t])||void 0===o?void 0:o.element,0,0,e.width,e.height),e.ctx.restore(),e.show_circle&&(d(e,c,n),e.ctx.strokeStyle=\"black\",e.ctx.lineWidth=e.circumference_thickness,e.ctx.stroke())}function h(c,n){return b(c,t.update_slider),c.start_timestamp=n,c.start_pos=c.slider_pos,c.current_mode==e.horizontal?c.target_pos=c.mouse_pos[0]/c.width:c.target_pos=c.mouse_pos[1]/c.height,!0}function m(t,c){return t.held_down&&(t.current_mode==e.horizontal?t.target_pos=t.mouse_pos[0]/t.width:t.target_pos=t.mouse_pos[1]/t.height,t.start_pos=t.target_pos,t.slider_pos=t.target_pos),!0}function v(e,t){let c=(t-e.start_timestamp)/e.slider_time;return c=Math.min(Math.max(c,0),1),c=e.rate_function(c),e.slider_pos=(1-c)*e.start_pos+c*e.target_pos,e.slider_pos==e.target_pos}function p(c){switch(c.current_mode){case e.undefined:break;case e.circle:!function(e){e.canvas.onmousemove=null,e.canvas.onmouseleave=null,e.canvas.ontouchstart=null,e.canvas.onmousedown=null,e.canvas.onfocus=null,e.canvas.onblur=null,e.canvas.style.cursor=\"default\",document.body.style.userSelect=\"text\",e.touching=!1,b(e,t.remove_circle)}(c);break;case e.horizontal:case e.vertical:!function(e){e.canvas.onmousedown=null,e.canvas.onmouseup=null,document.onmouseup=null,e.canvas.onmouseup=null,e.canvas.onmousemove=null,e.canvas.onmouseenter=null,e.canvas.onmouseleave=null,e.canvas.onfocus=null,e.canvas.onblur=null,e.held_down=!1,e.canvas.style.cursor=\"default\",document.body.style.userSelect=\"text\"}(c);break;default:throw`unsupported mode: ${c.current_mode}`}}function g(c){switch(c.current_mode=c.next_mode,c.next_mode){case e.circle:!function(e){e.canvas.onmousemove=c=>{s(e,c),b(e,t.update_circle)},e.canvas.onmouseleave=()=>{b(e,t.remove_circle)},e.revolve_imgs_on_click&&(e.canvas.ontouchstart=()=>{e.touching=!0},e.canvas.onmousedown=()=>{e.touching||b(e,t.revolve_imgs)}),e.canvas.matches(\":hover\")&&b(e,t.update_circle),e.canvas.onfocus=()=>{document.body.style.userSelect=\"none\"},e.canvas.onblur=()=>{document.body.style.userSelect=\"text\",e.touching=!1}}(c);break;case e.horizontal:case e.vertical:!function(c){c.canvas.onmousedown=()=>{c.held_down=!0,b(c,t.start_slider_move)},c.canvas.onmouseup=()=>{c.held_down=!1},document.onmouseup=()=>{c.held_down=!1},c.canvas.onmousemove=e=>{s(c,e),b(c,t.possible_instant_slide)},c.current_mode==e.horizontal?c.canvas.onmouseenter=()=>{c.canvas.style.cursor=\"ew-resize\"}:c.canvas.onmouseenter=()=>{c.canvas.style.cursor=\"ns-resize\"},c.canvas.onmouseleave=()=>{c.canvas.style.cursor=\"default\"},c.canvas.onfocus=()=>{document.body.style.userSelect=\"none\"},c.canvas.onblur=()=>{document.body.style.userSelect=\"text\"}}(c);break;default:throw`unsupported mode: ${c.current_mode}`}r(c)}function f(e){return p(e),g(e),!0}function w(c,n){!function(e,c){let n=[];for(;e.task_stack.length;){let o,i=e.task_stack.pop();switch(i){case t.none:o=!0;break;case t.change_mode:o=f(e);break;case t.revolve_imgs:o=a(e);break;case t.update_circle:o=l(e);break;case t.remove_circle:o=u(e);break;case t.start_slider_move:o=h(e,c);break;case t.possible_instant_slide:o=m(e);break;case t.update_slider:o=v(e,c);break;default:throw`unknown task: ${i}`}o||n.push(i)}e.task_stack=n}(c,n),function(t){switch(t.current_mode){case e.circle:!function(e){var t;if(e.render_circle){e.ctx.clearRect(0,0,e.width,e.height),function(e){var t;e.ctx.beginPath(),e.ctx.arc(e.mouse_pos[0],e.mouse_pos[1],e.circle_size-1,0,2*Math.PI),e.ctx.lineTo(e.width,0),e.ctx.lineTo(0,0),e.ctx.lineTo(0,e.height),e.ctx.lineTo(e.width,e.height),e.ctx.lineTo(e.width,0),e.ctx.closePath(),e.ctx.save(),e.ctx.clip(),e.ctx.drawImage(null===(t=e.images[0])||void 0===t?void 0:t.element,0,0,e.width,e.height),e.ctx.restore()}(e);for(let t=1;t<e.images_len;++t)_(e,t,(t-1)*Math.PI*2/(e.images_len-1),t*Math.PI*2/(e.images_len-1))}else e.ctx.clearRect(0,0,e.width,e.height),e.ctx.drawImage(null===(t=e.images[0])||void 0===t?void 0:t.element,0,0,e.width,e.height);e.render_circle=!1}(t);break;case e.horizontal:case e.vertical:!function(t){var c;t.ctx.clearRect(0,0,t.width,t.height),t.ctx.drawImage(null===(c=t.images[0])||void 0===c?void 0:c.element,0,0,t.width,t.height),t.show_slider&&function(t){t.ctx.beginPath(),t.current_mode==e.horizontal?(t.ctx.moveTo(t.slider_pos*t.width,0),t.ctx.lineTo(t.slider_pos*t.width,t.height)):(t.ctx.moveTo(0,t.slider_pos*t.height),t.ctx.lineTo(t.width,t.slider_pos*t.height)),t.ctx.closePath(),t.ctx.strokeStyle=\"black\",t.ctx.lineWidth=t.slider_thickness,t.ctx.stroke()}(t),function(t){var c;t.ctx.beginPath(),t.current_mode==e.horizontal?t.ctx.rect(t.slider_pos*t.width,0,t.width,t.height):t.ctx.rect(0,t.slider_pos*t.height,t.width,t.height),t.ctx.closePath(),t.ctx.save(),t.ctx.clip(),t.ctx.clearRect(0,0,t.width,t.height),t.ctx.drawImage(null===(c=t.images[1])||void 0===c?void 0:c.element,0,0,t.width,t.height),t.ctx.restore()}(t)}(t);break;default:throw`unsupported mode: ${t.current_mode}`}}(c),c.task_stack.length?k(c):c.next_update_queued=!1}function k(e){e.next_update_queued=!0,window.requestAnimationFrame((t=>{w(e,t)}))}function x(e,t){let c=e.task_stack.indexOf(t);-1!=c&&e.task_stack.splice(c,1)}function b(e,t){x(e,t),e.task_stack.push(t),function(e){e.next_update_queued||k(e)}(e)}c.r(n),c.d(n,{load:()=>I}),function(e){e[void 0]=\"undefined\",e.horizontal=\"horizontal\",e.vertical=\"vertical\",e.circle=\"circle\"}(e||(e={})),function(e){e[e.none=0]=\"none\",e[e.revolve_imgs=1]=\"revolve_imgs\",e[e.change_mode=2]=\"change_mode\",e[e.update_circle=3]=\"update_circle\",e[e.remove_circle=4]=\"remove_circle\",e[e.start_slider_move=5]=\"start_slider_move\",e[e.possible_instant_slide=6]=\"possible_instant_slide\",e[e.update_slider=7]=\"update_slider\"}(t||(t={}));const y={start_mode:e.circle,circumference_fraction:.005,circle_size:void 0,circle_fraction:.2,show_circle:!0,revolve_imgs_on_click:!0,slider_fraction:.01,slider_time:400,rate_function:function(e){return e<.5?4*e*e*e:1-Math.pow(-2*e+2,3)/2},start_slider_pos:.5,show_slider:!0};function z(e,t){return null!=e[t]?e[t]:y[t]}function M(c,n,a,r){!function(e,t){if(e.length<2)throw`image_urls must contain at least two images, not ${e.length}`;let c=[],n=0,a=e.length;for(let i=0;i<a;++i){let r={url:e[i],element:document.createElement(\"img\"),label:`${i}`};c.push(r),r.element.onload=()=>{++n,n==a&&t(c,o(c))},r.element.src=r.url}}(c,((c,o)=>{let s={images:c,images_len:c.length,canvas:n.canvas,ctx:n,width:0,height:0,ctrl_data:r,mouse_pos:[0,0],held_down:!1,next_mode:z(a,\"start_mode\"),current_mode:e.undefined,task_stack:[],next_update_queued:!1,circumference_thickness:0,render_circle:!1,circle_size:0,show_circle:z(a,\"show_circle\"),revolve_imgs_on_click:z(a,\"revolve_imgs_on_click\"),touching:!1,slider_thickness:0,slider_pos:z(a,\"start_slider_pos\"),slider_time:z(a,\"slider_time\"),rate_function:z(a,\"rate_function\"),show_slider:z(a,\"show_slider\"),start_timestamp:0,start_pos:0,target_pos:0};if(function(c){null!=c.ctrl_data&&(i(c,c.ctrl_data.circle_check,e.circle),i(c,c.ctrl_data.horizontal_check,e.horizontal),i(c,c.ctrl_data.vertical_check,e.vertical),c.ctrl_data.revolve_imgs_button.onclick=()=>{b(c,t.revolve_imgs)})}(s),function(e,t,c){e.canvas.width=t[0],e.canvas.height=t[1],e.width=e.canvas.width,e.height=e.canvas.height,function(e,t){let c=Math.max(e.canvas.width,e.canvas.height);e.circumference_thickness=c*z(t,\"circumference_fraction\"),e.circle_size=null!=t.circle_size?t.circle_size:c*z(t,\"circle_fraction\"),e.slider_thickness=c*z(t,\"slider_fraction\")}(e,c)}(s,o,a),\"y\"===s.canvas.dataset.in_use)throw`the canvas with the id '${s.canvas.id}' is already in use`;s.canvas.dataset.in_use=\"y\",b(s,t.change_mode)}))}function P(e,t,c){let n=document.createElement(\"input\");n.type=\"checkbox\",n.id=e;let o=document.createElement(\"label\");o.innerHTML=t,o.htmlFor=n.id;let a=document.createElement(\"br\");return c.appendChild(n),c.appendChild(o),c.appendChild(a),n}function T(e,t){let c=document.createElement(\"button\");c.innerHTML=e;let n=document.createElement(\"br\");return t.appendChild(c),t.appendChild(n),c}function I(e,t,c={}){M(e,function(e){let t=document.getElementById(e),c=t.getContext(\"2d\");return t.tabIndex=1,c}(t),c,null!=c.controls_id?function(e,t=function(){let e=\"\";for(let t=0;t<12;t++)e+=\"ABCDEFGHIJKLMNOPQRSTUVWXYZ0123456789\".charAt(Math.floor(36*Math.random()));return e}()){let c=document.getElementById(e);if(null==c)throw`controls_id '${e}' isn't valid`;return{controls_parent:c,circle_check:P(`${t}_circle_button`,\"Circle\",c),horizontal_check:P(`${t}_horizontal_button`,\"Horizontal\",c),vertical_check:P(`${t}_vertical_button`,\"Vertical\",c),revolve_imgs_button:T(\"Revolve Images\",c)}}(c.controls_id,c.key):void 0)}compare_view=n})();\n",
       "</script>\n",
       "\n",
       "<div style=\"display: flex; flex-direction: row; width: 100%;\">\n",
       "    <canvas id=\"canvas_0cb849fb-fc98-11ee-bade-2c27d71ab9a1\" style=\"height: 400px;\"></canvas>\n",
       "    \n",
       "        <div id=\"controls_0cb849fb-fc98-11ee-bade-2c27d71ab9a1\" style=\"width: auto; margin-right: 10px;\"></div>\n",
       "    \n",
       "</div>\n",
       "\n",
       "<script>\n",
       "    compare_view.load(\n",
       "        [\n",
       "    \"data:image/jpeg;base64,/9j/4AAQSkZJRgABAQEAZABkAAD/2wBDAAgGBgcGBQgHBwcJCQgKDBQNDAsLDBkSEw8UHRofHh0aHBwgJC4nICIsIxwcKDcpLDAxNDQ0Hyc5PTgyPC4zNDL/2wBDAQkJCQwLDBgNDRgyIRwhMjIyMjIyMjIyMjIyMjIyMjIyMjIyMjIyMjIyMjIyMjIyMjIyMjIyMjIyMjIyMjIyMjL/wAARCABkAGQDASIAAhEBAxEB/8QAHwAAAQUBAQEBAQEAAAAAAAAAAAECAwQFBgcICQoL/8QAtRAAAgEDAwIEAwUFBAQAAAF9AQIDAAQRBRIhMUEGE1FhByJxFDKBkaEII0KxwRVS0fAkM2JyggkKFhcYGRolJicoKSo0NTY3ODk6Q0RFRkdISUpTVFVWV1hZWmNkZWZnaGlqc3R1dnd4eXqDhIWGh4iJipKTlJWWl5iZmqKjpKWmp6ipqrKztLW2t7i5usLDxMXGx8jJytLT1NXW19jZ2uHi4+Tl5ufo6erx8vP09fb3+Pn6/8QAHwEAAwEBAQEBAQEBAQAAAAAAAAECAwQFBgcICQoL/8QAtREAAgECBAQDBAcFBAQAAQJ3AAECAxEEBSExBhJBUQdhcRMiMoEIFEKRobHBCSMzUvAVYnLRChYkNOEl8RcYGRomJygpKjU2Nzg5OkNERUZHSElKU1RVVldYWVpjZGVmZ2hpanN0dXZ3eHl6goOEhYaHiImKkpOUlZaXmJmaoqOkpaanqKmqsrO0tba3uLm6wsPExcbHyMnK0tPU1dbX2Nna4uPk5ebn6Onq8vP09fb3+Pn6/9oADAMBAAIRAxEAPwD5/ooooAKKKKACiiigAooooAKKKKACiiigAooooAKKKKACiiigAooooAKKKKACiiigAooooAKKKKACiiigAooooAKKKKACiiigAooooAKKKKACiiigAooooAKKKKACiiigAooooAKKKKACiiigAooooAKKKKACiiigAooooAKKKKACiiigAooooAKKKKACiiigAooooAKKKKACiiigAooooAKKKKACiiigAooooAKKKKACiiigAooooAKKKKACiiigAooooA//2Q==\",\n",
       "        \n",
       "    \"data:image/jpeg;base64,/9j/4AAQSkZJRgABAQEAZABkAAD/2wBDAAgGBgcGBQgHBwcJCQgKDBQNDAsLDBkSEw8UHRofHh0aHBwgJC4nICIsIxwcKDcpLDAxNDQ0Hyc5PTgyPC4zNDL/2wBDAQkJCQwLDBgNDRgyIRwhMjIyMjIyMjIyMjIyMjIyMjIyMjIyMjIyMjIyMjIyMjIyMjIyMjIyMjIyMjIyMjIyMjL/wAARCABkAGQDASIAAhEBAxEB/8QAHwAAAQUBAQEBAQEAAAAAAAAAAAECAwQFBgcICQoL/8QAtRAAAgEDAwIEAwUFBAQAAAF9AQIDAAQRBRIhMUEGE1FhByJxFDKBkaEII0KxwRVS0fAkM2JyggkKFhcYGRolJicoKSo0NTY3ODk6Q0RFRkdISUpTVFVWV1hZWmNkZWZnaGlqc3R1dnd4eXqDhIWGh4iJipKTlJWWl5iZmqKjpKWmp6ipqrKztLW2t7i5usLDxMXGx8jJytLT1NXW19jZ2uHi4+Tl5ufo6erx8vP09fb3+Pn6/8QAHwEAAwEBAQEBAQEBAQAAAAAAAAECAwQFBgcICQoL/8QAtREAAgECBAQDBAcFBAQAAQJ3AAECAxEEBSExBhJBUQdhcRMiMoEIFEKRobHBCSMzUvAVYnLRChYkNOEl8RcYGRomJygpKjU2Nzg5OkNERUZHSElKU1RVVldYWVpjZGVmZ2hpanN0dXZ3eHl6goOEhYaHiImKkpOUlZaXmJmaoqOkpaanqKmqsrO0tba3uLm6wsPExcbHyMnK0tPU1dbX2Nna4uPk5ebn6Onq8vP09fb3+Pn6/9oADAMBAAIRAxEAPwDx2iiivbPYCiiigAooooAKKKKACiiigAooooAKKKKACiiigAooooAKKKKACiiigAooooAKKKKACiiigAooooAKKKKACiiigAooooAKKKKACiiigAooooAKKKKACiiigAooooAKKKKACiiigAooooAKKKKACiiigAooooAKKKKACiiigAooooAKKKKACiiigAooooAKKKKACiiigAooooAKKKKACiiigAooooAKKKKACiiigAooooAKKKKACiiigAooooAKKKKAP//Z\",\n",
       "        ],\n",
       "    \"canvas_0cb849fb-fc98-11ee-bade-2c27d71ab9a1\",\n",
       "        {\"start_mode\": \"circle\", \"circumference_fraction\": 0.005, \"circle_fraction\": 0.2, \"show_circle\": true, \"revolve_imgs_on_click\": true, \"slider_fraction\": 0.01, \"slider_time\": 400, \"start_slider_pos\": 0.5, \"show_slider\": true, \"key\": \"0cb849fb-fc98-11ee-bade-2c27d71ab9a1\", \"controls_id\": \"controls_0cb849fb-fc98-11ee-bade-2c27d71ab9a1\"}\n",
       "    );\n",
       "</script>"
      ],
      "text/plain": [
       "<IPython.core.display.HTML object>"
      ]
     },
     "execution_count": 7,
     "metadata": {},
     "output_type": "execute_result"
    }
   ],
   "source": [
    "## Parameters\n",
    "# TODO: Find optimal parameters\n",
    "average_filter_kernel = 3\n",
    "max_disparity = 15\n",
    "alpha = 0\n",
    "Tc = 0\n",
    "Tg = 0\n",
    "\n",
    "# Compute cost volume\n",
    "cost_volume = compute_cost_volume(left_image, right_image, max_disparity=max_disparity, alpha=alpha, Tc=Tc, Tg=Tg)\n",
    "\n",
    "# Apply the average filter\n",
    "cost_volume = average_filter(cost_volume, average_filter_kernel)\n",
    "\n",
    "# Compute the disparity from the cost volume\n",
    "disparity = compute_disparity_from_cost_volume(cost_volume)\n",
    "\n",
    "# Visualize the results\n",
    "plot_compare(left_image, disparity, height=400)"
   ]
  },
  {
   "cell_type": "markdown",
   "id": "3e626086-baa5-4a4c-bad1-a25a0089ed83",
   "metadata": {},
   "source": [
    "## Task 2 - Guided image filtering (25 points)\n",
    "- Implement and apply the guided image filter instead of the average filter of Task 1. (15 points)\n",
    "- Select best parameters and visualize your results. (10 points)\n"
   ]
  },
  {
   "cell_type": "markdown",
   "id": "c7da35ae-1d71-4513-a264-b74b74f31909",
   "metadata": {},
   "source": [
    "#### Apply the guided image filter instead of the average filter of Task 1 and select best parameters"
   ]
  },
  {
   "cell_type": "code",
   "execution_count": 8,
   "id": "dc87411b-f2c0-48b1-a3dc-eafe40daaaf5",
   "metadata": {},
   "outputs": [],
   "source": [
    "\n",
    "def guided_cost_volume_filter(cost_volume, guidance_image, window_size, eps):\n",
    "    guided_cost_volume = np.zeros_like(cost_volume)\n",
    "    # TODO: implement the guided cost volume filter with the class \"GuidedFilter\" in guided_filter.py\n",
    "    # optional: use joblib for parallelization\n",
    "\n",
    "    return guided_cost_volume"
   ]
  },
  {
   "cell_type": "markdown",
   "id": "984e2133-b1eb-40f7-86db-00de468b6031",
   "metadata": {},
   "source": [
    "#### Visualize your results"
   ]
  },
  {
   "cell_type": "code",
   "execution_count": 9,
   "id": "36654ab2-85fc-4eb8-8969-75ba0d0f177f",
   "metadata": {},
   "outputs": [
    {
     "data": {
      "text/html": [
       "<script>\n",
       "    var compare_view;(()=>{\"use strict\";var e,t,c={d:(e,t)=>{for(var n in t)c.o(t,n)&&!c.o(e,n)&&Object.defineProperty(e,n,{enumerable:!0,get:t[n]})},o:(e,t)=>Object.prototype.hasOwnProperty.call(e,t),r:e=>{\"undefined\"!=typeof Symbol&&Symbol.toStringTag&&Object.defineProperty(e,Symbol.toStringTag,{value:\"Module\"}),Object.defineProperty(e,\"__esModule\",{value:!0})}},n={};function o(e){var t,c;let n=null===(t=e[0])||void 0===t?void 0:t.element.width,o=null===(c=e[0])||void 0===c?void 0:c.element.height;for(let t of e)t.element.width==n&&t.element.height==o||console.log(\"Warning: images don't have the same resolution\"),n=Math.max(n,t.element.width),o=Math.max(o,t.element.height);return[n,o]}function a(e){return e.images.unshift(e.images.pop()),!0}function i(e,c,n){c.onchange=()=>{c.checked?(e.next_mode=n,b(e,t.change_mode)):r(e)}}function r(t){var c;if(null!=t.ctrl_data)switch((c=t.ctrl_data).circle_check.checked=!1,c.horizontal_check.checked=!1,c.vertical_check.checked=!1,t.current_mode){case e.circle:t.ctrl_data.circle_check.checked=!0;break;case e.horizontal:t.ctrl_data.horizontal_check.checked=!0;break;case e.vertical:t.ctrl_data.vertical_check.checked=!0;break;default:throw`unsupported mode: ${t.current_mode}`}}function s(e,t){let c=e.canvas.getBoundingClientRect(),n=e.width/c.width,o=e.height/c.height;e.mouse_pos=[(t.clientX-c.left)*n,(t.clientY-c.top)*o]}function l(e){return e.render_circle=!0,e.canvas.style.cursor=\"none\",!1}function u(e){return x(e,t.update_circle),e.canvas.style.cursor=\"default\",!0}function d(e,t,c){e.ctx.beginPath(),e.ctx.arc(e.mouse_pos[0],e.mouse_pos[1],e.circle_size,t,c),c-t!=2*Math.PI&&e.ctx.lineTo(e.mouse_pos[0],e.mouse_pos[1]),e.ctx.closePath()}function _(e,t,c,n){var o;d(e,c,n),e.ctx.save(),e.ctx.clip(),e.ctx.drawImage(null===(o=e.images[t])||void 0===o?void 0:o.element,0,0,e.width,e.height),e.ctx.restore(),e.show_circle&&(d(e,c,n),e.ctx.strokeStyle=\"black\",e.ctx.lineWidth=e.circumference_thickness,e.ctx.stroke())}function h(c,n){return b(c,t.update_slider),c.start_timestamp=n,c.start_pos=c.slider_pos,c.current_mode==e.horizontal?c.target_pos=c.mouse_pos[0]/c.width:c.target_pos=c.mouse_pos[1]/c.height,!0}function m(t,c){return t.held_down&&(t.current_mode==e.horizontal?t.target_pos=t.mouse_pos[0]/t.width:t.target_pos=t.mouse_pos[1]/t.height,t.start_pos=t.target_pos,t.slider_pos=t.target_pos),!0}function v(e,t){let c=(t-e.start_timestamp)/e.slider_time;return c=Math.min(Math.max(c,0),1),c=e.rate_function(c),e.slider_pos=(1-c)*e.start_pos+c*e.target_pos,e.slider_pos==e.target_pos}function p(c){switch(c.current_mode){case e.undefined:break;case e.circle:!function(e){e.canvas.onmousemove=null,e.canvas.onmouseleave=null,e.canvas.ontouchstart=null,e.canvas.onmousedown=null,e.canvas.onfocus=null,e.canvas.onblur=null,e.canvas.style.cursor=\"default\",document.body.style.userSelect=\"text\",e.touching=!1,b(e,t.remove_circle)}(c);break;case e.horizontal:case e.vertical:!function(e){e.canvas.onmousedown=null,e.canvas.onmouseup=null,document.onmouseup=null,e.canvas.onmouseup=null,e.canvas.onmousemove=null,e.canvas.onmouseenter=null,e.canvas.onmouseleave=null,e.canvas.onfocus=null,e.canvas.onblur=null,e.held_down=!1,e.canvas.style.cursor=\"default\",document.body.style.userSelect=\"text\"}(c);break;default:throw`unsupported mode: ${c.current_mode}`}}function g(c){switch(c.current_mode=c.next_mode,c.next_mode){case e.circle:!function(e){e.canvas.onmousemove=c=>{s(e,c),b(e,t.update_circle)},e.canvas.onmouseleave=()=>{b(e,t.remove_circle)},e.revolve_imgs_on_click&&(e.canvas.ontouchstart=()=>{e.touching=!0},e.canvas.onmousedown=()=>{e.touching||b(e,t.revolve_imgs)}),e.canvas.matches(\":hover\")&&b(e,t.update_circle),e.canvas.onfocus=()=>{document.body.style.userSelect=\"none\"},e.canvas.onblur=()=>{document.body.style.userSelect=\"text\",e.touching=!1}}(c);break;case e.horizontal:case e.vertical:!function(c){c.canvas.onmousedown=()=>{c.held_down=!0,b(c,t.start_slider_move)},c.canvas.onmouseup=()=>{c.held_down=!1},document.onmouseup=()=>{c.held_down=!1},c.canvas.onmousemove=e=>{s(c,e),b(c,t.possible_instant_slide)},c.current_mode==e.horizontal?c.canvas.onmouseenter=()=>{c.canvas.style.cursor=\"ew-resize\"}:c.canvas.onmouseenter=()=>{c.canvas.style.cursor=\"ns-resize\"},c.canvas.onmouseleave=()=>{c.canvas.style.cursor=\"default\"},c.canvas.onfocus=()=>{document.body.style.userSelect=\"none\"},c.canvas.onblur=()=>{document.body.style.userSelect=\"text\"}}(c);break;default:throw`unsupported mode: ${c.current_mode}`}r(c)}function f(e){return p(e),g(e),!0}function w(c,n){!function(e,c){let n=[];for(;e.task_stack.length;){let o,i=e.task_stack.pop();switch(i){case t.none:o=!0;break;case t.change_mode:o=f(e);break;case t.revolve_imgs:o=a(e);break;case t.update_circle:o=l(e);break;case t.remove_circle:o=u(e);break;case t.start_slider_move:o=h(e,c);break;case t.possible_instant_slide:o=m(e);break;case t.update_slider:o=v(e,c);break;default:throw`unknown task: ${i}`}o||n.push(i)}e.task_stack=n}(c,n),function(t){switch(t.current_mode){case e.circle:!function(e){var t;if(e.render_circle){e.ctx.clearRect(0,0,e.width,e.height),function(e){var t;e.ctx.beginPath(),e.ctx.arc(e.mouse_pos[0],e.mouse_pos[1],e.circle_size-1,0,2*Math.PI),e.ctx.lineTo(e.width,0),e.ctx.lineTo(0,0),e.ctx.lineTo(0,e.height),e.ctx.lineTo(e.width,e.height),e.ctx.lineTo(e.width,0),e.ctx.closePath(),e.ctx.save(),e.ctx.clip(),e.ctx.drawImage(null===(t=e.images[0])||void 0===t?void 0:t.element,0,0,e.width,e.height),e.ctx.restore()}(e);for(let t=1;t<e.images_len;++t)_(e,t,(t-1)*Math.PI*2/(e.images_len-1),t*Math.PI*2/(e.images_len-1))}else e.ctx.clearRect(0,0,e.width,e.height),e.ctx.drawImage(null===(t=e.images[0])||void 0===t?void 0:t.element,0,0,e.width,e.height);e.render_circle=!1}(t);break;case e.horizontal:case e.vertical:!function(t){var c;t.ctx.clearRect(0,0,t.width,t.height),t.ctx.drawImage(null===(c=t.images[0])||void 0===c?void 0:c.element,0,0,t.width,t.height),t.show_slider&&function(t){t.ctx.beginPath(),t.current_mode==e.horizontal?(t.ctx.moveTo(t.slider_pos*t.width,0),t.ctx.lineTo(t.slider_pos*t.width,t.height)):(t.ctx.moveTo(0,t.slider_pos*t.height),t.ctx.lineTo(t.width,t.slider_pos*t.height)),t.ctx.closePath(),t.ctx.strokeStyle=\"black\",t.ctx.lineWidth=t.slider_thickness,t.ctx.stroke()}(t),function(t){var c;t.ctx.beginPath(),t.current_mode==e.horizontal?t.ctx.rect(t.slider_pos*t.width,0,t.width,t.height):t.ctx.rect(0,t.slider_pos*t.height,t.width,t.height),t.ctx.closePath(),t.ctx.save(),t.ctx.clip(),t.ctx.clearRect(0,0,t.width,t.height),t.ctx.drawImage(null===(c=t.images[1])||void 0===c?void 0:c.element,0,0,t.width,t.height),t.ctx.restore()}(t)}(t);break;default:throw`unsupported mode: ${t.current_mode}`}}(c),c.task_stack.length?k(c):c.next_update_queued=!1}function k(e){e.next_update_queued=!0,window.requestAnimationFrame((t=>{w(e,t)}))}function x(e,t){let c=e.task_stack.indexOf(t);-1!=c&&e.task_stack.splice(c,1)}function b(e,t){x(e,t),e.task_stack.push(t),function(e){e.next_update_queued||k(e)}(e)}c.r(n),c.d(n,{load:()=>I}),function(e){e[void 0]=\"undefined\",e.horizontal=\"horizontal\",e.vertical=\"vertical\",e.circle=\"circle\"}(e||(e={})),function(e){e[e.none=0]=\"none\",e[e.revolve_imgs=1]=\"revolve_imgs\",e[e.change_mode=2]=\"change_mode\",e[e.update_circle=3]=\"update_circle\",e[e.remove_circle=4]=\"remove_circle\",e[e.start_slider_move=5]=\"start_slider_move\",e[e.possible_instant_slide=6]=\"possible_instant_slide\",e[e.update_slider=7]=\"update_slider\"}(t||(t={}));const y={start_mode:e.circle,circumference_fraction:.005,circle_size:void 0,circle_fraction:.2,show_circle:!0,revolve_imgs_on_click:!0,slider_fraction:.01,slider_time:400,rate_function:function(e){return e<.5?4*e*e*e:1-Math.pow(-2*e+2,3)/2},start_slider_pos:.5,show_slider:!0};function z(e,t){return null!=e[t]?e[t]:y[t]}function M(c,n,a,r){!function(e,t){if(e.length<2)throw`image_urls must contain at least two images, not ${e.length}`;let c=[],n=0,a=e.length;for(let i=0;i<a;++i){let r={url:e[i],element:document.createElement(\"img\"),label:`${i}`};c.push(r),r.element.onload=()=>{++n,n==a&&t(c,o(c))},r.element.src=r.url}}(c,((c,o)=>{let s={images:c,images_len:c.length,canvas:n.canvas,ctx:n,width:0,height:0,ctrl_data:r,mouse_pos:[0,0],held_down:!1,next_mode:z(a,\"start_mode\"),current_mode:e.undefined,task_stack:[],next_update_queued:!1,circumference_thickness:0,render_circle:!1,circle_size:0,show_circle:z(a,\"show_circle\"),revolve_imgs_on_click:z(a,\"revolve_imgs_on_click\"),touching:!1,slider_thickness:0,slider_pos:z(a,\"start_slider_pos\"),slider_time:z(a,\"slider_time\"),rate_function:z(a,\"rate_function\"),show_slider:z(a,\"show_slider\"),start_timestamp:0,start_pos:0,target_pos:0};if(function(c){null!=c.ctrl_data&&(i(c,c.ctrl_data.circle_check,e.circle),i(c,c.ctrl_data.horizontal_check,e.horizontal),i(c,c.ctrl_data.vertical_check,e.vertical),c.ctrl_data.revolve_imgs_button.onclick=()=>{b(c,t.revolve_imgs)})}(s),function(e,t,c){e.canvas.width=t[0],e.canvas.height=t[1],e.width=e.canvas.width,e.height=e.canvas.height,function(e,t){let c=Math.max(e.canvas.width,e.canvas.height);e.circumference_thickness=c*z(t,\"circumference_fraction\"),e.circle_size=null!=t.circle_size?t.circle_size:c*z(t,\"circle_fraction\"),e.slider_thickness=c*z(t,\"slider_fraction\")}(e,c)}(s,o,a),\"y\"===s.canvas.dataset.in_use)throw`the canvas with the id '${s.canvas.id}' is already in use`;s.canvas.dataset.in_use=\"y\",b(s,t.change_mode)}))}function P(e,t,c){let n=document.createElement(\"input\");n.type=\"checkbox\",n.id=e;let o=document.createElement(\"label\");o.innerHTML=t,o.htmlFor=n.id;let a=document.createElement(\"br\");return c.appendChild(n),c.appendChild(o),c.appendChild(a),n}function T(e,t){let c=document.createElement(\"button\");c.innerHTML=e;let n=document.createElement(\"br\");return t.appendChild(c),t.appendChild(n),c}function I(e,t,c={}){M(e,function(e){let t=document.getElementById(e),c=t.getContext(\"2d\");return t.tabIndex=1,c}(t),c,null!=c.controls_id?function(e,t=function(){let e=\"\";for(let t=0;t<12;t++)e+=\"ABCDEFGHIJKLMNOPQRSTUVWXYZ0123456789\".charAt(Math.floor(36*Math.random()));return e}()){let c=document.getElementById(e);if(null==c)throw`controls_id '${e}' isn't valid`;return{controls_parent:c,circle_check:P(`${t}_circle_button`,\"Circle\",c),horizontal_check:P(`${t}_horizontal_button`,\"Horizontal\",c),vertical_check:P(`${t}_vertical_button`,\"Vertical\",c),revolve_imgs_button:T(\"Revolve Images\",c)}}(c.controls_id,c.key):void 0)}compare_view=n})();\n",
       "</script>\n",
       "\n",
       "<div style=\"display: flex; flex-direction: row; width: 100%;\">\n",
       "    <canvas id=\"canvas_0cc2401f-fc98-11ee-806d-2c27d71ab9a1\" style=\"height: 400px;\"></canvas>\n",
       "    \n",
       "        <div id=\"controls_0cc2401f-fc98-11ee-806d-2c27d71ab9a1\" style=\"width: auto; margin-right: 10px;\"></div>\n",
       "    \n",
       "</div>\n",
       "\n",
       "<script>\n",
       "    compare_view.load(\n",
       "        [\n",
       "    \"data:image/jpeg;base64,/9j/4AAQSkZJRgABAQEAZABkAAD/2wBDAAgGBgcGBQgHBwcJCQgKDBQNDAsLDBkSEw8UHRofHh0aHBwgJC4nICIsIxwcKDcpLDAxNDQ0Hyc5PTgyPC4zNDL/2wBDAQkJCQwLDBgNDRgyIRwhMjIyMjIyMjIyMjIyMjIyMjIyMjIyMjIyMjIyMjIyMjIyMjIyMjIyMjIyMjIyMjIyMjL/wAARCABkAGQDASIAAhEBAxEB/8QAHwAAAQUBAQEBAQEAAAAAAAAAAAECAwQFBgcICQoL/8QAtRAAAgEDAwIEAwUFBAQAAAF9AQIDAAQRBRIhMUEGE1FhByJxFDKBkaEII0KxwRVS0fAkM2JyggkKFhcYGRolJicoKSo0NTY3ODk6Q0RFRkdISUpTVFVWV1hZWmNkZWZnaGlqc3R1dnd4eXqDhIWGh4iJipKTlJWWl5iZmqKjpKWmp6ipqrKztLW2t7i5usLDxMXGx8jJytLT1NXW19jZ2uHi4+Tl5ufo6erx8vP09fb3+Pn6/8QAHwEAAwEBAQEBAQEBAQAAAAAAAAECAwQFBgcICQoL/8QAtREAAgECBAQDBAcFBAQAAQJ3AAECAxEEBSExBhJBUQdhcRMiMoEIFEKRobHBCSMzUvAVYnLRChYkNOEl8RcYGRomJygpKjU2Nzg5OkNERUZHSElKU1RVVldYWVpjZGVmZ2hpanN0dXZ3eHl6goOEhYaHiImKkpOUlZaXmJmaoqOkpaanqKmqsrO0tba3uLm6wsPExcbHyMnK0tPU1dbX2Nna4uPk5ebn6Onq8vP09fb3+Pn6/9oADAMBAAIRAxEAPwD5/ooooAKKKKACiiigAooooAKKKKACiiigAooooAKKKKACiiigAooooAKKKKACiiigAooooAKKKKACiiigAooooAKKKKACiiigAooooAKKKKACiiigAooooAKKKKACiiigAooooAKKKKACiiigAooooAKKKKACiiigAooooAKKKKACiiigAooooAKKKKACiiigAooooAKKKKACiiigAooooAKKKKACiiigAooooAKKKKACiiigAooooAKKKKACiiigAooooA//2Q==\",\n",
       "        \n",
       "    \"data:image/jpeg;base64,/9j/4AAQSkZJRgABAQEAZABkAAD/2wBDAAgGBgcGBQgHBwcJCQgKDBQNDAsLDBkSEw8UHRofHh0aHBwgJC4nICIsIxwcKDcpLDAxNDQ0Hyc5PTgyPC4zNDL/2wBDAQkJCQwLDBgNDRgyIRwhMjIyMjIyMjIyMjIyMjIyMjIyMjIyMjIyMjIyMjIyMjIyMjIyMjIyMjIyMjIyMjIyMjL/wAARCABkAGQDASIAAhEBAxEB/8QAHwAAAQUBAQEBAQEAAAAAAAAAAAECAwQFBgcICQoL/8QAtRAAAgEDAwIEAwUFBAQAAAF9AQIDAAQRBRIhMUEGE1FhByJxFDKBkaEII0KxwRVS0fAkM2JyggkKFhcYGRolJicoKSo0NTY3ODk6Q0RFRkdISUpTVFVWV1hZWmNkZWZnaGlqc3R1dnd4eXqDhIWGh4iJipKTlJWWl5iZmqKjpKWmp6ipqrKztLW2t7i5usLDxMXGx8jJytLT1NXW19jZ2uHi4+Tl5ufo6erx8vP09fb3+Pn6/8QAHwEAAwEBAQEBAQEBAQAAAAAAAAECAwQFBgcICQoL/8QAtREAAgECBAQDBAcFBAQAAQJ3AAECAxEEBSExBhJBUQdhcRMiMoEIFEKRobHBCSMzUvAVYnLRChYkNOEl8RcYGRomJygpKjU2Nzg5OkNERUZHSElKU1RVVldYWVpjZGVmZ2hpanN0dXZ3eHl6goOEhYaHiImKkpOUlZaXmJmaoqOkpaanqKmqsrO0tba3uLm6wsPExcbHyMnK0tPU1dbX2Nna4uPk5ebn6Onq8vP09fb3+Pn6/9oADAMBAAIRAxEAPwDx2iiivbPYCiiigAooooAKKKKACiiigAooooAKKKKACiiigAooooAKKKKACiiigAooooAKKKKACiiigAooooAKKKKACiiigAooooAKKKKACiiigAooooAKKKKACiiigAooooAKKKKACiiigAooooAKKKKACiiigAooooAKKKKACiiigAooooAKKKKACiiigAooooAKKKKACiiigAooooAKKKKACiiigAooooAKKKKACiiigAooooAKKKKACiiigAooooAKKKKAP//Z\",\n",
       "        ],\n",
       "    \"canvas_0cc2401f-fc98-11ee-806d-2c27d71ab9a1\",\n",
       "        {\"start_mode\": \"circle\", \"circumference_fraction\": 0.005, \"circle_fraction\": 0.2, \"show_circle\": true, \"revolve_imgs_on_click\": true, \"slider_fraction\": 0.01, \"slider_time\": 400, \"start_slider_pos\": 0.5, \"show_slider\": true, \"key\": \"0cc2401f-fc98-11ee-806d-2c27d71ab9a1\", \"controls_id\": \"controls_0cc2401f-fc98-11ee-806d-2c27d71ab9a1\"}\n",
       "    );\n",
       "</script>"
      ],
      "text/plain": [
       "<IPython.core.display.HTML object>"
      ]
     },
     "execution_count": 9,
     "metadata": {},
     "output_type": "execute_result"
    }
   ],
   "source": [
    "# TODO: set suitable parameters\n",
    "alpha = 0\n",
    "Tc = 0\n",
    "Tg = 0\n",
    "window_size = 23\n",
    "eps = 0.0001\n",
    "\n",
    "cost_volume = compute_cost_volume(left_image, right_image, max_disparity=max_disparity, alpha=alpha, Tc=Tc, Tg=Tg)\n",
    "guided_cost_volume = guided_cost_volume_filter(cost_volume, left_image, window_size, eps)\n",
    "guided_disparity = compute_disparity_from_cost_volume(guided_cost_volume)\n",
    "plot_compare(left_image, guided_disparity, height=400)"
   ]
  },
  {
   "cell_type": "markdown",
   "id": "c1514f98-4ccb-4ab1-8193-d876c2aaca34",
   "metadata": {},
   "source": [
    "## Task 3 - Post processing (25 points)\n",
    "- Compute disparity maps for the left and right reference image. (5 points)\n",
    "- Mark inconsistent pixels. (5 points)\n",
    "- Infill inconsistent pixels with nearby disparity values. (10 points)\n",
    "- Apply median filter and visualize the result. (5 points)"
   ]
  },
  {
   "cell_type": "markdown",
   "id": "0c6ead47-c333-4320-b1cb-805cf82893e3",
   "metadata": {},
   "source": [
    "#### Compute disparity maps for the left and right reference image"
   ]
  },
  {
   "cell_type": "code",
   "execution_count": 11,
   "id": "8870b59f-2a8e-4e7e-a43a-62033b19c9c9",
   "metadata": {},
   "outputs": [
    {
     "data": {
      "text/html": [
       "<script>\n",
       "    var compare_view;(()=>{\"use strict\";var e,t,c={d:(e,t)=>{for(var n in t)c.o(t,n)&&!c.o(e,n)&&Object.defineProperty(e,n,{enumerable:!0,get:t[n]})},o:(e,t)=>Object.prototype.hasOwnProperty.call(e,t),r:e=>{\"undefined\"!=typeof Symbol&&Symbol.toStringTag&&Object.defineProperty(e,Symbol.toStringTag,{value:\"Module\"}),Object.defineProperty(e,\"__esModule\",{value:!0})}},n={};function o(e){var t,c;let n=null===(t=e[0])||void 0===t?void 0:t.element.width,o=null===(c=e[0])||void 0===c?void 0:c.element.height;for(let t of e)t.element.width==n&&t.element.height==o||console.log(\"Warning: images don't have the same resolution\"),n=Math.max(n,t.element.width),o=Math.max(o,t.element.height);return[n,o]}function a(e){return e.images.unshift(e.images.pop()),!0}function i(e,c,n){c.onchange=()=>{c.checked?(e.next_mode=n,b(e,t.change_mode)):r(e)}}function r(t){var c;if(null!=t.ctrl_data)switch((c=t.ctrl_data).circle_check.checked=!1,c.horizontal_check.checked=!1,c.vertical_check.checked=!1,t.current_mode){case e.circle:t.ctrl_data.circle_check.checked=!0;break;case e.horizontal:t.ctrl_data.horizontal_check.checked=!0;break;case e.vertical:t.ctrl_data.vertical_check.checked=!0;break;default:throw`unsupported mode: ${t.current_mode}`}}function s(e,t){let c=e.canvas.getBoundingClientRect(),n=e.width/c.width,o=e.height/c.height;e.mouse_pos=[(t.clientX-c.left)*n,(t.clientY-c.top)*o]}function l(e){return e.render_circle=!0,e.canvas.style.cursor=\"none\",!1}function u(e){return x(e,t.update_circle),e.canvas.style.cursor=\"default\",!0}function d(e,t,c){e.ctx.beginPath(),e.ctx.arc(e.mouse_pos[0],e.mouse_pos[1],e.circle_size,t,c),c-t!=2*Math.PI&&e.ctx.lineTo(e.mouse_pos[0],e.mouse_pos[1]),e.ctx.closePath()}function _(e,t,c,n){var o;d(e,c,n),e.ctx.save(),e.ctx.clip(),e.ctx.drawImage(null===(o=e.images[t])||void 0===o?void 0:o.element,0,0,e.width,e.height),e.ctx.restore(),e.show_circle&&(d(e,c,n),e.ctx.strokeStyle=\"black\",e.ctx.lineWidth=e.circumference_thickness,e.ctx.stroke())}function h(c,n){return b(c,t.update_slider),c.start_timestamp=n,c.start_pos=c.slider_pos,c.current_mode==e.horizontal?c.target_pos=c.mouse_pos[0]/c.width:c.target_pos=c.mouse_pos[1]/c.height,!0}function m(t,c){return t.held_down&&(t.current_mode==e.horizontal?t.target_pos=t.mouse_pos[0]/t.width:t.target_pos=t.mouse_pos[1]/t.height,t.start_pos=t.target_pos,t.slider_pos=t.target_pos),!0}function v(e,t){let c=(t-e.start_timestamp)/e.slider_time;return c=Math.min(Math.max(c,0),1),c=e.rate_function(c),e.slider_pos=(1-c)*e.start_pos+c*e.target_pos,e.slider_pos==e.target_pos}function p(c){switch(c.current_mode){case e.undefined:break;case e.circle:!function(e){e.canvas.onmousemove=null,e.canvas.onmouseleave=null,e.canvas.ontouchstart=null,e.canvas.onmousedown=null,e.canvas.onfocus=null,e.canvas.onblur=null,e.canvas.style.cursor=\"default\",document.body.style.userSelect=\"text\",e.touching=!1,b(e,t.remove_circle)}(c);break;case e.horizontal:case e.vertical:!function(e){e.canvas.onmousedown=null,e.canvas.onmouseup=null,document.onmouseup=null,e.canvas.onmouseup=null,e.canvas.onmousemove=null,e.canvas.onmouseenter=null,e.canvas.onmouseleave=null,e.canvas.onfocus=null,e.canvas.onblur=null,e.held_down=!1,e.canvas.style.cursor=\"default\",document.body.style.userSelect=\"text\"}(c);break;default:throw`unsupported mode: ${c.current_mode}`}}function g(c){switch(c.current_mode=c.next_mode,c.next_mode){case e.circle:!function(e){e.canvas.onmousemove=c=>{s(e,c),b(e,t.update_circle)},e.canvas.onmouseleave=()=>{b(e,t.remove_circle)},e.revolve_imgs_on_click&&(e.canvas.ontouchstart=()=>{e.touching=!0},e.canvas.onmousedown=()=>{e.touching||b(e,t.revolve_imgs)}),e.canvas.matches(\":hover\")&&b(e,t.update_circle),e.canvas.onfocus=()=>{document.body.style.userSelect=\"none\"},e.canvas.onblur=()=>{document.body.style.userSelect=\"text\",e.touching=!1}}(c);break;case e.horizontal:case e.vertical:!function(c){c.canvas.onmousedown=()=>{c.held_down=!0,b(c,t.start_slider_move)},c.canvas.onmouseup=()=>{c.held_down=!1},document.onmouseup=()=>{c.held_down=!1},c.canvas.onmousemove=e=>{s(c,e),b(c,t.possible_instant_slide)},c.current_mode==e.horizontal?c.canvas.onmouseenter=()=>{c.canvas.style.cursor=\"ew-resize\"}:c.canvas.onmouseenter=()=>{c.canvas.style.cursor=\"ns-resize\"},c.canvas.onmouseleave=()=>{c.canvas.style.cursor=\"default\"},c.canvas.onfocus=()=>{document.body.style.userSelect=\"none\"},c.canvas.onblur=()=>{document.body.style.userSelect=\"text\"}}(c);break;default:throw`unsupported mode: ${c.current_mode}`}r(c)}function f(e){return p(e),g(e),!0}function w(c,n){!function(e,c){let n=[];for(;e.task_stack.length;){let o,i=e.task_stack.pop();switch(i){case t.none:o=!0;break;case t.change_mode:o=f(e);break;case t.revolve_imgs:o=a(e);break;case t.update_circle:o=l(e);break;case t.remove_circle:o=u(e);break;case t.start_slider_move:o=h(e,c);break;case t.possible_instant_slide:o=m(e);break;case t.update_slider:o=v(e,c);break;default:throw`unknown task: ${i}`}o||n.push(i)}e.task_stack=n}(c,n),function(t){switch(t.current_mode){case e.circle:!function(e){var t;if(e.render_circle){e.ctx.clearRect(0,0,e.width,e.height),function(e){var t;e.ctx.beginPath(),e.ctx.arc(e.mouse_pos[0],e.mouse_pos[1],e.circle_size-1,0,2*Math.PI),e.ctx.lineTo(e.width,0),e.ctx.lineTo(0,0),e.ctx.lineTo(0,e.height),e.ctx.lineTo(e.width,e.height),e.ctx.lineTo(e.width,0),e.ctx.closePath(),e.ctx.save(),e.ctx.clip(),e.ctx.drawImage(null===(t=e.images[0])||void 0===t?void 0:t.element,0,0,e.width,e.height),e.ctx.restore()}(e);for(let t=1;t<e.images_len;++t)_(e,t,(t-1)*Math.PI*2/(e.images_len-1),t*Math.PI*2/(e.images_len-1))}else e.ctx.clearRect(0,0,e.width,e.height),e.ctx.drawImage(null===(t=e.images[0])||void 0===t?void 0:t.element,0,0,e.width,e.height);e.render_circle=!1}(t);break;case e.horizontal:case e.vertical:!function(t){var c;t.ctx.clearRect(0,0,t.width,t.height),t.ctx.drawImage(null===(c=t.images[0])||void 0===c?void 0:c.element,0,0,t.width,t.height),t.show_slider&&function(t){t.ctx.beginPath(),t.current_mode==e.horizontal?(t.ctx.moveTo(t.slider_pos*t.width,0),t.ctx.lineTo(t.slider_pos*t.width,t.height)):(t.ctx.moveTo(0,t.slider_pos*t.height),t.ctx.lineTo(t.width,t.slider_pos*t.height)),t.ctx.closePath(),t.ctx.strokeStyle=\"black\",t.ctx.lineWidth=t.slider_thickness,t.ctx.stroke()}(t),function(t){var c;t.ctx.beginPath(),t.current_mode==e.horizontal?t.ctx.rect(t.slider_pos*t.width,0,t.width,t.height):t.ctx.rect(0,t.slider_pos*t.height,t.width,t.height),t.ctx.closePath(),t.ctx.save(),t.ctx.clip(),t.ctx.clearRect(0,0,t.width,t.height),t.ctx.drawImage(null===(c=t.images[1])||void 0===c?void 0:c.element,0,0,t.width,t.height),t.ctx.restore()}(t)}(t);break;default:throw`unsupported mode: ${t.current_mode}`}}(c),c.task_stack.length?k(c):c.next_update_queued=!1}function k(e){e.next_update_queued=!0,window.requestAnimationFrame((t=>{w(e,t)}))}function x(e,t){let c=e.task_stack.indexOf(t);-1!=c&&e.task_stack.splice(c,1)}function b(e,t){x(e,t),e.task_stack.push(t),function(e){e.next_update_queued||k(e)}(e)}c.r(n),c.d(n,{load:()=>I}),function(e){e[void 0]=\"undefined\",e.horizontal=\"horizontal\",e.vertical=\"vertical\",e.circle=\"circle\"}(e||(e={})),function(e){e[e.none=0]=\"none\",e[e.revolve_imgs=1]=\"revolve_imgs\",e[e.change_mode=2]=\"change_mode\",e[e.update_circle=3]=\"update_circle\",e[e.remove_circle=4]=\"remove_circle\",e[e.start_slider_move=5]=\"start_slider_move\",e[e.possible_instant_slide=6]=\"possible_instant_slide\",e[e.update_slider=7]=\"update_slider\"}(t||(t={}));const y={start_mode:e.circle,circumference_fraction:.005,circle_size:void 0,circle_fraction:.2,show_circle:!0,revolve_imgs_on_click:!0,slider_fraction:.01,slider_time:400,rate_function:function(e){return e<.5?4*e*e*e:1-Math.pow(-2*e+2,3)/2},start_slider_pos:.5,show_slider:!0};function z(e,t){return null!=e[t]?e[t]:y[t]}function M(c,n,a,r){!function(e,t){if(e.length<2)throw`image_urls must contain at least two images, not ${e.length}`;let c=[],n=0,a=e.length;for(let i=0;i<a;++i){let r={url:e[i],element:document.createElement(\"img\"),label:`${i}`};c.push(r),r.element.onload=()=>{++n,n==a&&t(c,o(c))},r.element.src=r.url}}(c,((c,o)=>{let s={images:c,images_len:c.length,canvas:n.canvas,ctx:n,width:0,height:0,ctrl_data:r,mouse_pos:[0,0],held_down:!1,next_mode:z(a,\"start_mode\"),current_mode:e.undefined,task_stack:[],next_update_queued:!1,circumference_thickness:0,render_circle:!1,circle_size:0,show_circle:z(a,\"show_circle\"),revolve_imgs_on_click:z(a,\"revolve_imgs_on_click\"),touching:!1,slider_thickness:0,slider_pos:z(a,\"start_slider_pos\"),slider_time:z(a,\"slider_time\"),rate_function:z(a,\"rate_function\"),show_slider:z(a,\"show_slider\"),start_timestamp:0,start_pos:0,target_pos:0};if(function(c){null!=c.ctrl_data&&(i(c,c.ctrl_data.circle_check,e.circle),i(c,c.ctrl_data.horizontal_check,e.horizontal),i(c,c.ctrl_data.vertical_check,e.vertical),c.ctrl_data.revolve_imgs_button.onclick=()=>{b(c,t.revolve_imgs)})}(s),function(e,t,c){e.canvas.width=t[0],e.canvas.height=t[1],e.width=e.canvas.width,e.height=e.canvas.height,function(e,t){let c=Math.max(e.canvas.width,e.canvas.height);e.circumference_thickness=c*z(t,\"circumference_fraction\"),e.circle_size=null!=t.circle_size?t.circle_size:c*z(t,\"circle_fraction\"),e.slider_thickness=c*z(t,\"slider_fraction\")}(e,c)}(s,o,a),\"y\"===s.canvas.dataset.in_use)throw`the canvas with the id '${s.canvas.id}' is already in use`;s.canvas.dataset.in_use=\"y\",b(s,t.change_mode)}))}function P(e,t,c){let n=document.createElement(\"input\");n.type=\"checkbox\",n.id=e;let o=document.createElement(\"label\");o.innerHTML=t,o.htmlFor=n.id;let a=document.createElement(\"br\");return c.appendChild(n),c.appendChild(o),c.appendChild(a),n}function T(e,t){let c=document.createElement(\"button\");c.innerHTML=e;let n=document.createElement(\"br\");return t.appendChild(c),t.appendChild(n),c}function I(e,t,c={}){M(e,function(e){let t=document.getElementById(e),c=t.getContext(\"2d\");return t.tabIndex=1,c}(t),c,null!=c.controls_id?function(e,t=function(){let e=\"\";for(let t=0;t<12;t++)e+=\"ABCDEFGHIJKLMNOPQRSTUVWXYZ0123456789\".charAt(Math.floor(36*Math.random()));return e}()){let c=document.getElementById(e);if(null==c)throw`controls_id '${e}' isn't valid`;return{controls_parent:c,circle_check:P(`${t}_circle_button`,\"Circle\",c),horizontal_check:P(`${t}_horizontal_button`,\"Horizontal\",c),vertical_check:P(`${t}_vertical_button`,\"Vertical\",c),revolve_imgs_button:T(\"Revolve Images\",c)}}(c.controls_id,c.key):void 0)}compare_view=n})();\n",
       "</script>\n",
       "\n",
       "<div style=\"display: flex; flex-direction: row; width: 100%;\">\n",
       "    <canvas id=\"canvas_1ea6c87b-fc98-11ee-874f-2c27d71ab9a1\" style=\"height: 400px;\"></canvas>\n",
       "    \n",
       "        <div id=\"controls_1ea6c87b-fc98-11ee-874f-2c27d71ab9a1\" style=\"width: auto; margin-right: 10px;\"></div>\n",
       "    \n",
       "</div>\n",
       "\n",
       "<script>\n",
       "    compare_view.load(\n",
       "        [\n",
       "    \"data:image/jpeg;base64,/9j/4AAQSkZJRgABAQEAZABkAAD/2wBDAAgGBgcGBQgHBwcJCQgKDBQNDAsLDBkSEw8UHRofHh0aHBwgJC4nICIsIxwcKDcpLDAxNDQ0Hyc5PTgyPC4zNDL/2wBDAQkJCQwLDBgNDRgyIRwhMjIyMjIyMjIyMjIyMjIyMjIyMjIyMjIyMjIyMjIyMjIyMjIyMjIyMjIyMjIyMjIyMjL/wAARCABkAGQDASIAAhEBAxEB/8QAHwAAAQUBAQEBAQEAAAAAAAAAAAECAwQFBgcICQoL/8QAtRAAAgEDAwIEAwUFBAQAAAF9AQIDAAQRBRIhMUEGE1FhByJxFDKBkaEII0KxwRVS0fAkM2JyggkKFhcYGRolJicoKSo0NTY3ODk6Q0RFRkdISUpTVFVWV1hZWmNkZWZnaGlqc3R1dnd4eXqDhIWGh4iJipKTlJWWl5iZmqKjpKWmp6ipqrKztLW2t7i5usLDxMXGx8jJytLT1NXW19jZ2uHi4+Tl5ufo6erx8vP09fb3+Pn6/8QAHwEAAwEBAQEBAQEBAQAAAAAAAAECAwQFBgcICQoL/8QAtREAAgECBAQDBAcFBAQAAQJ3AAECAxEEBSExBhJBUQdhcRMiMoEIFEKRobHBCSMzUvAVYnLRChYkNOEl8RcYGRomJygpKjU2Nzg5OkNERUZHSElKU1RVVldYWVpjZGVmZ2hpanN0dXZ3eHl6goOEhYaHiImKkpOUlZaXmJmaoqOkpaanqKmqsrO0tba3uLm6wsPExcbHyMnK0tPU1dbX2Nna4uPk5ebn6Onq8vP09fb3+Pn6/9oADAMBAAIRAxEAPwDx2iiivbPYCiiigAooooAKKKKACiiigAooooAKKKKACiiigAooooAKKKKACiiigAooooAKKKKACiiigAooooAKKKKACiiigAooooAKKKKACiiigAooooAKKKKACiiigAooooAKKKKACiiigAooooAKKKKACiiigAooooAKKKKACiiigAooooAKKKKACiiigAooooAKKKKACiiigAooooAKKKKACiiigAooooAKKKKACiiigAooooAKKKKACiiigAooooAKKKKAP//Z\",\n",
       "        \n",
       "    \"data:image/jpeg;base64,/9j/4AAQSkZJRgABAQEAZABkAAD/2wBDAAgGBgcGBQgHBwcJCQgKDBQNDAsLDBkSEw8UHRofHh0aHBwgJC4nICIsIxwcKDcpLDAxNDQ0Hyc5PTgyPC4zNDL/2wBDAQkJCQwLDBgNDRgyIRwhMjIyMjIyMjIyMjIyMjIyMjIyMjIyMjIyMjIyMjIyMjIyMjIyMjIyMjIyMjIyMjIyMjL/wAARCABkAGQDASIAAhEBAxEB/8QAHwAAAQUBAQEBAQEAAAAAAAAAAAECAwQFBgcICQoL/8QAtRAAAgEDAwIEAwUFBAQAAAF9AQIDAAQRBRIhMUEGE1FhByJxFDKBkaEII0KxwRVS0fAkM2JyggkKFhcYGRolJicoKSo0NTY3ODk6Q0RFRkdISUpTVFVWV1hZWmNkZWZnaGlqc3R1dnd4eXqDhIWGh4iJipKTlJWWl5iZmqKjpKWmp6ipqrKztLW2t7i5usLDxMXGx8jJytLT1NXW19jZ2uHi4+Tl5ufo6erx8vP09fb3+Pn6/8QAHwEAAwEBAQEBAQEBAQAAAAAAAAECAwQFBgcICQoL/8QAtREAAgECBAQDBAcFBAQAAQJ3AAECAxEEBSExBhJBUQdhcRMiMoEIFEKRobHBCSMzUvAVYnLRChYkNOEl8RcYGRomJygpKjU2Nzg5OkNERUZHSElKU1RVVldYWVpjZGVmZ2hpanN0dXZ3eHl6goOEhYaHiImKkpOUlZaXmJmaoqOkpaanqKmqsrO0tba3uLm6wsPExcbHyMnK0tPU1dbX2Nna4uPk5ebn6Onq8vP09fb3+Pn6/9oADAMBAAIRAxEAPwDx2iiivbPYCiiigAooooAKKKKACiiigAooooAKKKKACiiigAooooAKKKKACiiigAooooAKKKKACiiigAooooAKKKKACiiigAooooAKKKKACiiigAooooAKKKKACiiigAooooAKKKKACiiigAooooAKKKKACiiigAooooAKKKKACiiigAooooAKKKKACiiigAooooAKKKKACiiigAooooAKKKKACiiigAooooAKKKKACiiigAooooAKKKKACiiigAooooAKKKKAP//Z\",\n",
       "        ],\n",
       "    \"canvas_1ea6c87b-fc98-11ee-874f-2c27d71ab9a1\",\n",
       "        {\"start_mode\": \"circle\", \"circumference_fraction\": 0.005, \"circle_fraction\": 0.2, \"show_circle\": true, \"revolve_imgs_on_click\": true, \"slider_fraction\": 0.01, \"slider_time\": 400, \"start_slider_pos\": 0.5, \"show_slider\": true, \"key\": \"1ea6c87b-fc98-11ee-874f-2c27d71ab9a1\", \"controls_id\": \"controls_1ea6c87b-fc98-11ee-874f-2c27d71ab9a1\"}\n",
       "    );\n",
       "</script>"
      ],
      "text/plain": [
       "<IPython.core.display.HTML object>"
      ]
     },
     "execution_count": 11,
     "metadata": {},
     "output_type": "execute_result"
    }
   ],
   "source": [
    "def compute_disparity(left_image, right_image):\n",
    "    cost_volume = compute_cost_volume(left_image, right_image, max_disparity=max_disparity, alpha=0.9, Tc=0.028, Tg=0.008)\n",
    "    guided_cost_volume = guided_cost_volume_filter(cost_volume, left_image, window_size, eps)\n",
    "    guided_disparity = compute_disparity_from_cost_volume(guided_cost_volume)\n",
    "    return guided_disparity\n",
    "\n",
    "# compute left disparity\n",
    "left_disparity = compute_disparity(left_image, right_image)\n",
    "\n",
    "# TODO: compute right disparity\n",
    "right_disparity = np.zeros_like(left_disparity)\n",
    "\n",
    "plot_compare(left_disparity, right_disparity, height=400)"
   ]
  },
  {
   "cell_type": "markdown",
   "id": "3e530e3e-3faa-4e26-ad9b-84428f234746",
   "metadata": {},
   "source": [
    "#### Mark inconsistent pixels"
   ]
  },
  {
   "cell_type": "code",
   "execution_count": 12,
   "id": "f6da4ac2-bc52-49ec-a71c-da68b5668b2f",
   "metadata": {},
   "outputs": [],
   "source": [
    "inconsistent_pixels = np.zeros_like(left_disparity, dtype=bool)\n",
    "inconsistent_pixels[:, :] = False\n",
    "\n",
    "# TODO: mark inconsistent pixels"
   ]
  },
  {
   "cell_type": "markdown",
   "id": "0978ae65-4e80-4131-85e3-ba75e9d82ae8",
   "metadata": {},
   "source": [
    "#### Infill inconsistent pixels with nearby disparity values"
   ]
  },
  {
   "cell_type": "code",
   "execution_count": 13,
   "id": "a80bbbaf-b356-41a5-9f13-12c8eff41b5c",
   "metadata": {},
   "outputs": [],
   "source": [
    "def inpaint_inconsistent_pixels(disparity, inconsistent_pixels):\n",
    "    new_disparity = np.copy(disparity)\n",
    "    # TODO: infill inconsistent pixels with nearby disparity values\n",
    "\n",
    "    return new_disparity\n",
    "   \n",
    "inpainted_disparity = inpaint_inconsistent_pixels(left_disparity, inconsistent_pixels)"
   ]
  },
  {
   "cell_type": "markdown",
   "id": "1e02bf1a-90d5-469d-b8db-60aa806301e6",
   "metadata": {},
   "source": [
    "#### Apply median filter"
   ]
  },
  {
   "cell_type": "code",
   "execution_count": 14,
   "id": "251bc417-cf48-4c9a-8156-a57a3d0a66ae",
   "metadata": {},
   "outputs": [],
   "source": [
    "# TODO: apply median filter and visualize the result"
   ]
  },
  {
   "cell_type": "code",
   "execution_count": 15,
   "id": "4730d17c-14c9-4a8b-bc5c-abd4d8ed0737",
   "metadata": {},
   "outputs": [
    {
     "data": {
      "text/html": [
       "<script>\n",
       "    var compare_view;(()=>{\"use strict\";var e,t,c={d:(e,t)=>{for(var n in t)c.o(t,n)&&!c.o(e,n)&&Object.defineProperty(e,n,{enumerable:!0,get:t[n]})},o:(e,t)=>Object.prototype.hasOwnProperty.call(e,t),r:e=>{\"undefined\"!=typeof Symbol&&Symbol.toStringTag&&Object.defineProperty(e,Symbol.toStringTag,{value:\"Module\"}),Object.defineProperty(e,\"__esModule\",{value:!0})}},n={};function o(e){var t,c;let n=null===(t=e[0])||void 0===t?void 0:t.element.width,o=null===(c=e[0])||void 0===c?void 0:c.element.height;for(let t of e)t.element.width==n&&t.element.height==o||console.log(\"Warning: images don't have the same resolution\"),n=Math.max(n,t.element.width),o=Math.max(o,t.element.height);return[n,o]}function a(e){return e.images.unshift(e.images.pop()),!0}function i(e,c,n){c.onchange=()=>{c.checked?(e.next_mode=n,b(e,t.change_mode)):r(e)}}function r(t){var c;if(null!=t.ctrl_data)switch((c=t.ctrl_data).circle_check.checked=!1,c.horizontal_check.checked=!1,c.vertical_check.checked=!1,t.current_mode){case e.circle:t.ctrl_data.circle_check.checked=!0;break;case e.horizontal:t.ctrl_data.horizontal_check.checked=!0;break;case e.vertical:t.ctrl_data.vertical_check.checked=!0;break;default:throw`unsupported mode: ${t.current_mode}`}}function s(e,t){let c=e.canvas.getBoundingClientRect(),n=e.width/c.width,o=e.height/c.height;e.mouse_pos=[(t.clientX-c.left)*n,(t.clientY-c.top)*o]}function l(e){return e.render_circle=!0,e.canvas.style.cursor=\"none\",!1}function u(e){return x(e,t.update_circle),e.canvas.style.cursor=\"default\",!0}function d(e,t,c){e.ctx.beginPath(),e.ctx.arc(e.mouse_pos[0],e.mouse_pos[1],e.circle_size,t,c),c-t!=2*Math.PI&&e.ctx.lineTo(e.mouse_pos[0],e.mouse_pos[1]),e.ctx.closePath()}function _(e,t,c,n){var o;d(e,c,n),e.ctx.save(),e.ctx.clip(),e.ctx.drawImage(null===(o=e.images[t])||void 0===o?void 0:o.element,0,0,e.width,e.height),e.ctx.restore(),e.show_circle&&(d(e,c,n),e.ctx.strokeStyle=\"black\",e.ctx.lineWidth=e.circumference_thickness,e.ctx.stroke())}function h(c,n){return b(c,t.update_slider),c.start_timestamp=n,c.start_pos=c.slider_pos,c.current_mode==e.horizontal?c.target_pos=c.mouse_pos[0]/c.width:c.target_pos=c.mouse_pos[1]/c.height,!0}function m(t,c){return t.held_down&&(t.current_mode==e.horizontal?t.target_pos=t.mouse_pos[0]/t.width:t.target_pos=t.mouse_pos[1]/t.height,t.start_pos=t.target_pos,t.slider_pos=t.target_pos),!0}function v(e,t){let c=(t-e.start_timestamp)/e.slider_time;return c=Math.min(Math.max(c,0),1),c=e.rate_function(c),e.slider_pos=(1-c)*e.start_pos+c*e.target_pos,e.slider_pos==e.target_pos}function p(c){switch(c.current_mode){case e.undefined:break;case e.circle:!function(e){e.canvas.onmousemove=null,e.canvas.onmouseleave=null,e.canvas.ontouchstart=null,e.canvas.onmousedown=null,e.canvas.onfocus=null,e.canvas.onblur=null,e.canvas.style.cursor=\"default\",document.body.style.userSelect=\"text\",e.touching=!1,b(e,t.remove_circle)}(c);break;case e.horizontal:case e.vertical:!function(e){e.canvas.onmousedown=null,e.canvas.onmouseup=null,document.onmouseup=null,e.canvas.onmouseup=null,e.canvas.onmousemove=null,e.canvas.onmouseenter=null,e.canvas.onmouseleave=null,e.canvas.onfocus=null,e.canvas.onblur=null,e.held_down=!1,e.canvas.style.cursor=\"default\",document.body.style.userSelect=\"text\"}(c);break;default:throw`unsupported mode: ${c.current_mode}`}}function g(c){switch(c.current_mode=c.next_mode,c.next_mode){case e.circle:!function(e){e.canvas.onmousemove=c=>{s(e,c),b(e,t.update_circle)},e.canvas.onmouseleave=()=>{b(e,t.remove_circle)},e.revolve_imgs_on_click&&(e.canvas.ontouchstart=()=>{e.touching=!0},e.canvas.onmousedown=()=>{e.touching||b(e,t.revolve_imgs)}),e.canvas.matches(\":hover\")&&b(e,t.update_circle),e.canvas.onfocus=()=>{document.body.style.userSelect=\"none\"},e.canvas.onblur=()=>{document.body.style.userSelect=\"text\",e.touching=!1}}(c);break;case e.horizontal:case e.vertical:!function(c){c.canvas.onmousedown=()=>{c.held_down=!0,b(c,t.start_slider_move)},c.canvas.onmouseup=()=>{c.held_down=!1},document.onmouseup=()=>{c.held_down=!1},c.canvas.onmousemove=e=>{s(c,e),b(c,t.possible_instant_slide)},c.current_mode==e.horizontal?c.canvas.onmouseenter=()=>{c.canvas.style.cursor=\"ew-resize\"}:c.canvas.onmouseenter=()=>{c.canvas.style.cursor=\"ns-resize\"},c.canvas.onmouseleave=()=>{c.canvas.style.cursor=\"default\"},c.canvas.onfocus=()=>{document.body.style.userSelect=\"none\"},c.canvas.onblur=()=>{document.body.style.userSelect=\"text\"}}(c);break;default:throw`unsupported mode: ${c.current_mode}`}r(c)}function f(e){return p(e),g(e),!0}function w(c,n){!function(e,c){let n=[];for(;e.task_stack.length;){let o,i=e.task_stack.pop();switch(i){case t.none:o=!0;break;case t.change_mode:o=f(e);break;case t.revolve_imgs:o=a(e);break;case t.update_circle:o=l(e);break;case t.remove_circle:o=u(e);break;case t.start_slider_move:o=h(e,c);break;case t.possible_instant_slide:o=m(e);break;case t.update_slider:o=v(e,c);break;default:throw`unknown task: ${i}`}o||n.push(i)}e.task_stack=n}(c,n),function(t){switch(t.current_mode){case e.circle:!function(e){var t;if(e.render_circle){e.ctx.clearRect(0,0,e.width,e.height),function(e){var t;e.ctx.beginPath(),e.ctx.arc(e.mouse_pos[0],e.mouse_pos[1],e.circle_size-1,0,2*Math.PI),e.ctx.lineTo(e.width,0),e.ctx.lineTo(0,0),e.ctx.lineTo(0,e.height),e.ctx.lineTo(e.width,e.height),e.ctx.lineTo(e.width,0),e.ctx.closePath(),e.ctx.save(),e.ctx.clip(),e.ctx.drawImage(null===(t=e.images[0])||void 0===t?void 0:t.element,0,0,e.width,e.height),e.ctx.restore()}(e);for(let t=1;t<e.images_len;++t)_(e,t,(t-1)*Math.PI*2/(e.images_len-1),t*Math.PI*2/(e.images_len-1))}else e.ctx.clearRect(0,0,e.width,e.height),e.ctx.drawImage(null===(t=e.images[0])||void 0===t?void 0:t.element,0,0,e.width,e.height);e.render_circle=!1}(t);break;case e.horizontal:case e.vertical:!function(t){var c;t.ctx.clearRect(0,0,t.width,t.height),t.ctx.drawImage(null===(c=t.images[0])||void 0===c?void 0:c.element,0,0,t.width,t.height),t.show_slider&&function(t){t.ctx.beginPath(),t.current_mode==e.horizontal?(t.ctx.moveTo(t.slider_pos*t.width,0),t.ctx.lineTo(t.slider_pos*t.width,t.height)):(t.ctx.moveTo(0,t.slider_pos*t.height),t.ctx.lineTo(t.width,t.slider_pos*t.height)),t.ctx.closePath(),t.ctx.strokeStyle=\"black\",t.ctx.lineWidth=t.slider_thickness,t.ctx.stroke()}(t),function(t){var c;t.ctx.beginPath(),t.current_mode==e.horizontal?t.ctx.rect(t.slider_pos*t.width,0,t.width,t.height):t.ctx.rect(0,t.slider_pos*t.height,t.width,t.height),t.ctx.closePath(),t.ctx.save(),t.ctx.clip(),t.ctx.clearRect(0,0,t.width,t.height),t.ctx.drawImage(null===(c=t.images[1])||void 0===c?void 0:c.element,0,0,t.width,t.height),t.ctx.restore()}(t)}(t);break;default:throw`unsupported mode: ${t.current_mode}`}}(c),c.task_stack.length?k(c):c.next_update_queued=!1}function k(e){e.next_update_queued=!0,window.requestAnimationFrame((t=>{w(e,t)}))}function x(e,t){let c=e.task_stack.indexOf(t);-1!=c&&e.task_stack.splice(c,1)}function b(e,t){x(e,t),e.task_stack.push(t),function(e){e.next_update_queued||k(e)}(e)}c.r(n),c.d(n,{load:()=>I}),function(e){e[void 0]=\"undefined\",e.horizontal=\"horizontal\",e.vertical=\"vertical\",e.circle=\"circle\"}(e||(e={})),function(e){e[e.none=0]=\"none\",e[e.revolve_imgs=1]=\"revolve_imgs\",e[e.change_mode=2]=\"change_mode\",e[e.update_circle=3]=\"update_circle\",e[e.remove_circle=4]=\"remove_circle\",e[e.start_slider_move=5]=\"start_slider_move\",e[e.possible_instant_slide=6]=\"possible_instant_slide\",e[e.update_slider=7]=\"update_slider\"}(t||(t={}));const y={start_mode:e.circle,circumference_fraction:.005,circle_size:void 0,circle_fraction:.2,show_circle:!0,revolve_imgs_on_click:!0,slider_fraction:.01,slider_time:400,rate_function:function(e){return e<.5?4*e*e*e:1-Math.pow(-2*e+2,3)/2},start_slider_pos:.5,show_slider:!0};function z(e,t){return null!=e[t]?e[t]:y[t]}function M(c,n,a,r){!function(e,t){if(e.length<2)throw`image_urls must contain at least two images, not ${e.length}`;let c=[],n=0,a=e.length;for(let i=0;i<a;++i){let r={url:e[i],element:document.createElement(\"img\"),label:`${i}`};c.push(r),r.element.onload=()=>{++n,n==a&&t(c,o(c))},r.element.src=r.url}}(c,((c,o)=>{let s={images:c,images_len:c.length,canvas:n.canvas,ctx:n,width:0,height:0,ctrl_data:r,mouse_pos:[0,0],held_down:!1,next_mode:z(a,\"start_mode\"),current_mode:e.undefined,task_stack:[],next_update_queued:!1,circumference_thickness:0,render_circle:!1,circle_size:0,show_circle:z(a,\"show_circle\"),revolve_imgs_on_click:z(a,\"revolve_imgs_on_click\"),touching:!1,slider_thickness:0,slider_pos:z(a,\"start_slider_pos\"),slider_time:z(a,\"slider_time\"),rate_function:z(a,\"rate_function\"),show_slider:z(a,\"show_slider\"),start_timestamp:0,start_pos:0,target_pos:0};if(function(c){null!=c.ctrl_data&&(i(c,c.ctrl_data.circle_check,e.circle),i(c,c.ctrl_data.horizontal_check,e.horizontal),i(c,c.ctrl_data.vertical_check,e.vertical),c.ctrl_data.revolve_imgs_button.onclick=()=>{b(c,t.revolve_imgs)})}(s),function(e,t,c){e.canvas.width=t[0],e.canvas.height=t[1],e.width=e.canvas.width,e.height=e.canvas.height,function(e,t){let c=Math.max(e.canvas.width,e.canvas.height);e.circumference_thickness=c*z(t,\"circumference_fraction\"),e.circle_size=null!=t.circle_size?t.circle_size:c*z(t,\"circle_fraction\"),e.slider_thickness=c*z(t,\"slider_fraction\")}(e,c)}(s,o,a),\"y\"===s.canvas.dataset.in_use)throw`the canvas with the id '${s.canvas.id}' is already in use`;s.canvas.dataset.in_use=\"y\",b(s,t.change_mode)}))}function P(e,t,c){let n=document.createElement(\"input\");n.type=\"checkbox\",n.id=e;let o=document.createElement(\"label\");o.innerHTML=t,o.htmlFor=n.id;let a=document.createElement(\"br\");return c.appendChild(n),c.appendChild(o),c.appendChild(a),n}function T(e,t){let c=document.createElement(\"button\");c.innerHTML=e;let n=document.createElement(\"br\");return t.appendChild(c),t.appendChild(n),c}function I(e,t,c={}){M(e,function(e){let t=document.getElementById(e),c=t.getContext(\"2d\");return t.tabIndex=1,c}(t),c,null!=c.controls_id?function(e,t=function(){let e=\"\";for(let t=0;t<12;t++)e+=\"ABCDEFGHIJKLMNOPQRSTUVWXYZ0123456789\".charAt(Math.floor(36*Math.random()));return e}()){let c=document.getElementById(e);if(null==c)throw`controls_id '${e}' isn't valid`;return{controls_parent:c,circle_check:P(`${t}_circle_button`,\"Circle\",c),horizontal_check:P(`${t}_horizontal_button`,\"Horizontal\",c),vertical_check:P(`${t}_vertical_button`,\"Vertical\",c),revolve_imgs_button:T(\"Revolve Images\",c)}}(c.controls_id,c.key):void 0)}compare_view=n})();\n",
       "</script>\n",
       "\n",
       "<div style=\"display: flex; flex-direction: row; width: 100%;\">\n",
       "    <canvas id=\"canvas_244f4a97-fc98-11ee-83cc-2c27d71ab9a1\" style=\"height: 400px;\"></canvas>\n",
       "    \n",
       "        <div id=\"controls_244f4a97-fc98-11ee-83cc-2c27d71ab9a1\" style=\"width: auto; margin-right: 10px;\"></div>\n",
       "    \n",
       "</div>\n",
       "\n",
       "<script>\n",
       "    compare_view.load(\n",
       "        [\n",
       "    \"data:image/jpeg;base64,/9j/4AAQSkZJRgABAQEAZABkAAD/2wBDAAgGBgcGBQgHBwcJCQgKDBQNDAsLDBkSEw8UHRofHh0aHBwgJC4nICIsIxwcKDcpLDAxNDQ0Hyc5PTgyPC4zNDL/2wBDAQkJCQwLDBgNDRgyIRwhMjIyMjIyMjIyMjIyMjIyMjIyMjIyMjIyMjIyMjIyMjIyMjIyMjIyMjIyMjIyMjIyMjL/wAARCABkAGQDASIAAhEBAxEB/8QAHwAAAQUBAQEBAQEAAAAAAAAAAAECAwQFBgcICQoL/8QAtRAAAgEDAwIEAwUFBAQAAAF9AQIDAAQRBRIhMUEGE1FhByJxFDKBkaEII0KxwRVS0fAkM2JyggkKFhcYGRolJicoKSo0NTY3ODk6Q0RFRkdISUpTVFVWV1hZWmNkZWZnaGlqc3R1dnd4eXqDhIWGh4iJipKTlJWWl5iZmqKjpKWmp6ipqrKztLW2t7i5usLDxMXGx8jJytLT1NXW19jZ2uHi4+Tl5ufo6erx8vP09fb3+Pn6/8QAHwEAAwEBAQEBAQEBAQAAAAAAAAECAwQFBgcICQoL/8QAtREAAgECBAQDBAcFBAQAAQJ3AAECAxEEBSExBhJBUQdhcRMiMoEIFEKRobHBCSMzUvAVYnLRChYkNOEl8RcYGRomJygpKjU2Nzg5OkNERUZHSElKU1RVVldYWVpjZGVmZ2hpanN0dXZ3eHl6goOEhYaHiImKkpOUlZaXmJmaoqOkpaanqKmqsrO0tba3uLm6wsPExcbHyMnK0tPU1dbX2Nna4uPk5ebn6Onq8vP09fb3+Pn6/9oADAMBAAIRAxEAPwD5/ooooAKKKKACiiigAooooAKKKKACiiigAooooAKKKKACiiigAooooAKKKKACiiigAooooAKKKKACiiigAooooAKKKKACiiigAooooAKKKKACiiigAooooAKKKKACiiigAooooAKKKKACiiigAooooAKKKKACiiigAooooAKKKKACiiigAooooAKKKKACiiigAooooAKKKKACiiigAooooAKKKKACiiigAooooAKKKKACiiigAooooAKKKKACiiigAooooA//2Q==\",\n",
       "        \n",
       "    \"data:image/jpeg;base64,/9j/4AAQSkZJRgABAQEAZABkAAD/2wBDAAgGBgcGBQgHBwcJCQgKDBQNDAsLDBkSEw8UHRofHh0aHBwgJC4nICIsIxwcKDcpLDAxNDQ0Hyc5PTgyPC4zNDL/2wBDAQkJCQwLDBgNDRgyIRwhMjIyMjIyMjIyMjIyMjIyMjIyMjIyMjIyMjIyMjIyMjIyMjIyMjIyMjIyMjIyMjIyMjL/wAARCABkAGQDASIAAhEBAxEB/8QAHwAAAQUBAQEBAQEAAAAAAAAAAAECAwQFBgcICQoL/8QAtRAAAgEDAwIEAwUFBAQAAAF9AQIDAAQRBRIhMUEGE1FhByJxFDKBkaEII0KxwRVS0fAkM2JyggkKFhcYGRolJicoKSo0NTY3ODk6Q0RFRkdISUpTVFVWV1hZWmNkZWZnaGlqc3R1dnd4eXqDhIWGh4iJipKTlJWWl5iZmqKjpKWmp6ipqrKztLW2t7i5usLDxMXGx8jJytLT1NXW19jZ2uHi4+Tl5ufo6erx8vP09fb3+Pn6/8QAHwEAAwEBAQEBAQEBAQAAAAAAAAECAwQFBgcICQoL/8QAtREAAgECBAQDBAcFBAQAAQJ3AAECAxEEBSExBhJBUQdhcRMiMoEIFEKRobHBCSMzUvAVYnLRChYkNOEl8RcYGRomJygpKjU2Nzg5OkNERUZHSElKU1RVVldYWVpjZGVmZ2hpanN0dXZ3eHl6goOEhYaHiImKkpOUlZaXmJmaoqOkpaanqKmqsrO0tba3uLm6wsPExcbHyMnK0tPU1dbX2Nna4uPk5ebn6Onq8vP09fb3+Pn6/9oADAMBAAIRAxEAPwDx2iiivbPYCiiigAooooAKKKKACiiigAooooAKKKKACiiigAooooAKKKKACiiigAooooAKKKKACiiigAooooAKKKKACiiigAooooAKKKKACiiigAooooAKKKKACiiigAooooAKKKKACiiigAooooAKKKKACiiigAooooAKKKKACiiigAooooAKKKKACiiigAooooAKKKKACiiigAooooAKKKKACiiigAooooAKKKKACiiigAooooAKKKKACiiigAooooAKKKKAP//Z\",\n",
       "        ],\n",
       "    \"canvas_244f4a97-fc98-11ee-83cc-2c27d71ab9a1\",\n",
       "        {\"start_mode\": \"circle\", \"circumference_fraction\": 0.005, \"circle_fraction\": 0.2, \"show_circle\": true, \"revolve_imgs_on_click\": true, \"slider_fraction\": 0.01, \"slider_time\": 400, \"start_slider_pos\": 0.5, \"show_slider\": true, \"key\": \"244f4a97-fc98-11ee-83cc-2c27d71ab9a1\", \"controls_id\": \"controls_244f4a97-fc98-11ee-83cc-2c27d71ab9a1\"}\n",
       "    );\n",
       "</script>"
      ],
      "text/plain": [
       "<IPython.core.display.HTML object>"
      ]
     },
     "execution_count": 15,
     "metadata": {},
     "output_type": "execute_result"
    }
   ],
   "source": [
    "plot_compare(left_image*0.5+right_image*0.5, inconsistent_pixels, height=400)"
   ]
  },
  {
   "cell_type": "code",
   "execution_count": 16,
   "id": "206395eb-3bff-46e7-b5b8-381856b545f7",
   "metadata": {},
   "outputs": [
    {
     "data": {
      "text/html": [
       "<script>\n",
       "    var compare_view;(()=>{\"use strict\";var e,t,c={d:(e,t)=>{for(var n in t)c.o(t,n)&&!c.o(e,n)&&Object.defineProperty(e,n,{enumerable:!0,get:t[n]})},o:(e,t)=>Object.prototype.hasOwnProperty.call(e,t),r:e=>{\"undefined\"!=typeof Symbol&&Symbol.toStringTag&&Object.defineProperty(e,Symbol.toStringTag,{value:\"Module\"}),Object.defineProperty(e,\"__esModule\",{value:!0})}},n={};function o(e){var t,c;let n=null===(t=e[0])||void 0===t?void 0:t.element.width,o=null===(c=e[0])||void 0===c?void 0:c.element.height;for(let t of e)t.element.width==n&&t.element.height==o||console.log(\"Warning: images don't have the same resolution\"),n=Math.max(n,t.element.width),o=Math.max(o,t.element.height);return[n,o]}function a(e){return e.images.unshift(e.images.pop()),!0}function i(e,c,n){c.onchange=()=>{c.checked?(e.next_mode=n,b(e,t.change_mode)):r(e)}}function r(t){var c;if(null!=t.ctrl_data)switch((c=t.ctrl_data).circle_check.checked=!1,c.horizontal_check.checked=!1,c.vertical_check.checked=!1,t.current_mode){case e.circle:t.ctrl_data.circle_check.checked=!0;break;case e.horizontal:t.ctrl_data.horizontal_check.checked=!0;break;case e.vertical:t.ctrl_data.vertical_check.checked=!0;break;default:throw`unsupported mode: ${t.current_mode}`}}function s(e,t){let c=e.canvas.getBoundingClientRect(),n=e.width/c.width,o=e.height/c.height;e.mouse_pos=[(t.clientX-c.left)*n,(t.clientY-c.top)*o]}function l(e){return e.render_circle=!0,e.canvas.style.cursor=\"none\",!1}function u(e){return x(e,t.update_circle),e.canvas.style.cursor=\"default\",!0}function d(e,t,c){e.ctx.beginPath(),e.ctx.arc(e.mouse_pos[0],e.mouse_pos[1],e.circle_size,t,c),c-t!=2*Math.PI&&e.ctx.lineTo(e.mouse_pos[0],e.mouse_pos[1]),e.ctx.closePath()}function _(e,t,c,n){var o;d(e,c,n),e.ctx.save(),e.ctx.clip(),e.ctx.drawImage(null===(o=e.images[t])||void 0===o?void 0:o.element,0,0,e.width,e.height),e.ctx.restore(),e.show_circle&&(d(e,c,n),e.ctx.strokeStyle=\"black\",e.ctx.lineWidth=e.circumference_thickness,e.ctx.stroke())}function h(c,n){return b(c,t.update_slider),c.start_timestamp=n,c.start_pos=c.slider_pos,c.current_mode==e.horizontal?c.target_pos=c.mouse_pos[0]/c.width:c.target_pos=c.mouse_pos[1]/c.height,!0}function m(t,c){return t.held_down&&(t.current_mode==e.horizontal?t.target_pos=t.mouse_pos[0]/t.width:t.target_pos=t.mouse_pos[1]/t.height,t.start_pos=t.target_pos,t.slider_pos=t.target_pos),!0}function v(e,t){let c=(t-e.start_timestamp)/e.slider_time;return c=Math.min(Math.max(c,0),1),c=e.rate_function(c),e.slider_pos=(1-c)*e.start_pos+c*e.target_pos,e.slider_pos==e.target_pos}function p(c){switch(c.current_mode){case e.undefined:break;case e.circle:!function(e){e.canvas.onmousemove=null,e.canvas.onmouseleave=null,e.canvas.ontouchstart=null,e.canvas.onmousedown=null,e.canvas.onfocus=null,e.canvas.onblur=null,e.canvas.style.cursor=\"default\",document.body.style.userSelect=\"text\",e.touching=!1,b(e,t.remove_circle)}(c);break;case e.horizontal:case e.vertical:!function(e){e.canvas.onmousedown=null,e.canvas.onmouseup=null,document.onmouseup=null,e.canvas.onmouseup=null,e.canvas.onmousemove=null,e.canvas.onmouseenter=null,e.canvas.onmouseleave=null,e.canvas.onfocus=null,e.canvas.onblur=null,e.held_down=!1,e.canvas.style.cursor=\"default\",document.body.style.userSelect=\"text\"}(c);break;default:throw`unsupported mode: ${c.current_mode}`}}function g(c){switch(c.current_mode=c.next_mode,c.next_mode){case e.circle:!function(e){e.canvas.onmousemove=c=>{s(e,c),b(e,t.update_circle)},e.canvas.onmouseleave=()=>{b(e,t.remove_circle)},e.revolve_imgs_on_click&&(e.canvas.ontouchstart=()=>{e.touching=!0},e.canvas.onmousedown=()=>{e.touching||b(e,t.revolve_imgs)}),e.canvas.matches(\":hover\")&&b(e,t.update_circle),e.canvas.onfocus=()=>{document.body.style.userSelect=\"none\"},e.canvas.onblur=()=>{document.body.style.userSelect=\"text\",e.touching=!1}}(c);break;case e.horizontal:case e.vertical:!function(c){c.canvas.onmousedown=()=>{c.held_down=!0,b(c,t.start_slider_move)},c.canvas.onmouseup=()=>{c.held_down=!1},document.onmouseup=()=>{c.held_down=!1},c.canvas.onmousemove=e=>{s(c,e),b(c,t.possible_instant_slide)},c.current_mode==e.horizontal?c.canvas.onmouseenter=()=>{c.canvas.style.cursor=\"ew-resize\"}:c.canvas.onmouseenter=()=>{c.canvas.style.cursor=\"ns-resize\"},c.canvas.onmouseleave=()=>{c.canvas.style.cursor=\"default\"},c.canvas.onfocus=()=>{document.body.style.userSelect=\"none\"},c.canvas.onblur=()=>{document.body.style.userSelect=\"text\"}}(c);break;default:throw`unsupported mode: ${c.current_mode}`}r(c)}function f(e){return p(e),g(e),!0}function w(c,n){!function(e,c){let n=[];for(;e.task_stack.length;){let o,i=e.task_stack.pop();switch(i){case t.none:o=!0;break;case t.change_mode:o=f(e);break;case t.revolve_imgs:o=a(e);break;case t.update_circle:o=l(e);break;case t.remove_circle:o=u(e);break;case t.start_slider_move:o=h(e,c);break;case t.possible_instant_slide:o=m(e);break;case t.update_slider:o=v(e,c);break;default:throw`unknown task: ${i}`}o||n.push(i)}e.task_stack=n}(c,n),function(t){switch(t.current_mode){case e.circle:!function(e){var t;if(e.render_circle){e.ctx.clearRect(0,0,e.width,e.height),function(e){var t;e.ctx.beginPath(),e.ctx.arc(e.mouse_pos[0],e.mouse_pos[1],e.circle_size-1,0,2*Math.PI),e.ctx.lineTo(e.width,0),e.ctx.lineTo(0,0),e.ctx.lineTo(0,e.height),e.ctx.lineTo(e.width,e.height),e.ctx.lineTo(e.width,0),e.ctx.closePath(),e.ctx.save(),e.ctx.clip(),e.ctx.drawImage(null===(t=e.images[0])||void 0===t?void 0:t.element,0,0,e.width,e.height),e.ctx.restore()}(e);for(let t=1;t<e.images_len;++t)_(e,t,(t-1)*Math.PI*2/(e.images_len-1),t*Math.PI*2/(e.images_len-1))}else e.ctx.clearRect(0,0,e.width,e.height),e.ctx.drawImage(null===(t=e.images[0])||void 0===t?void 0:t.element,0,0,e.width,e.height);e.render_circle=!1}(t);break;case e.horizontal:case e.vertical:!function(t){var c;t.ctx.clearRect(0,0,t.width,t.height),t.ctx.drawImage(null===(c=t.images[0])||void 0===c?void 0:c.element,0,0,t.width,t.height),t.show_slider&&function(t){t.ctx.beginPath(),t.current_mode==e.horizontal?(t.ctx.moveTo(t.slider_pos*t.width,0),t.ctx.lineTo(t.slider_pos*t.width,t.height)):(t.ctx.moveTo(0,t.slider_pos*t.height),t.ctx.lineTo(t.width,t.slider_pos*t.height)),t.ctx.closePath(),t.ctx.strokeStyle=\"black\",t.ctx.lineWidth=t.slider_thickness,t.ctx.stroke()}(t),function(t){var c;t.ctx.beginPath(),t.current_mode==e.horizontal?t.ctx.rect(t.slider_pos*t.width,0,t.width,t.height):t.ctx.rect(0,t.slider_pos*t.height,t.width,t.height),t.ctx.closePath(),t.ctx.save(),t.ctx.clip(),t.ctx.clearRect(0,0,t.width,t.height),t.ctx.drawImage(null===(c=t.images[1])||void 0===c?void 0:c.element,0,0,t.width,t.height),t.ctx.restore()}(t)}(t);break;default:throw`unsupported mode: ${t.current_mode}`}}(c),c.task_stack.length?k(c):c.next_update_queued=!1}function k(e){e.next_update_queued=!0,window.requestAnimationFrame((t=>{w(e,t)}))}function x(e,t){let c=e.task_stack.indexOf(t);-1!=c&&e.task_stack.splice(c,1)}function b(e,t){x(e,t),e.task_stack.push(t),function(e){e.next_update_queued||k(e)}(e)}c.r(n),c.d(n,{load:()=>I}),function(e){e[void 0]=\"undefined\",e.horizontal=\"horizontal\",e.vertical=\"vertical\",e.circle=\"circle\"}(e||(e={})),function(e){e[e.none=0]=\"none\",e[e.revolve_imgs=1]=\"revolve_imgs\",e[e.change_mode=2]=\"change_mode\",e[e.update_circle=3]=\"update_circle\",e[e.remove_circle=4]=\"remove_circle\",e[e.start_slider_move=5]=\"start_slider_move\",e[e.possible_instant_slide=6]=\"possible_instant_slide\",e[e.update_slider=7]=\"update_slider\"}(t||(t={}));const y={start_mode:e.circle,circumference_fraction:.005,circle_size:void 0,circle_fraction:.2,show_circle:!0,revolve_imgs_on_click:!0,slider_fraction:.01,slider_time:400,rate_function:function(e){return e<.5?4*e*e*e:1-Math.pow(-2*e+2,3)/2},start_slider_pos:.5,show_slider:!0};function z(e,t){return null!=e[t]?e[t]:y[t]}function M(c,n,a,r){!function(e,t){if(e.length<2)throw`image_urls must contain at least two images, not ${e.length}`;let c=[],n=0,a=e.length;for(let i=0;i<a;++i){let r={url:e[i],element:document.createElement(\"img\"),label:`${i}`};c.push(r),r.element.onload=()=>{++n,n==a&&t(c,o(c))},r.element.src=r.url}}(c,((c,o)=>{let s={images:c,images_len:c.length,canvas:n.canvas,ctx:n,width:0,height:0,ctrl_data:r,mouse_pos:[0,0],held_down:!1,next_mode:z(a,\"start_mode\"),current_mode:e.undefined,task_stack:[],next_update_queued:!1,circumference_thickness:0,render_circle:!1,circle_size:0,show_circle:z(a,\"show_circle\"),revolve_imgs_on_click:z(a,\"revolve_imgs_on_click\"),touching:!1,slider_thickness:0,slider_pos:z(a,\"start_slider_pos\"),slider_time:z(a,\"slider_time\"),rate_function:z(a,\"rate_function\"),show_slider:z(a,\"show_slider\"),start_timestamp:0,start_pos:0,target_pos:0};if(function(c){null!=c.ctrl_data&&(i(c,c.ctrl_data.circle_check,e.circle),i(c,c.ctrl_data.horizontal_check,e.horizontal),i(c,c.ctrl_data.vertical_check,e.vertical),c.ctrl_data.revolve_imgs_button.onclick=()=>{b(c,t.revolve_imgs)})}(s),function(e,t,c){e.canvas.width=t[0],e.canvas.height=t[1],e.width=e.canvas.width,e.height=e.canvas.height,function(e,t){let c=Math.max(e.canvas.width,e.canvas.height);e.circumference_thickness=c*z(t,\"circumference_fraction\"),e.circle_size=null!=t.circle_size?t.circle_size:c*z(t,\"circle_fraction\"),e.slider_thickness=c*z(t,\"slider_fraction\")}(e,c)}(s,o,a),\"y\"===s.canvas.dataset.in_use)throw`the canvas with the id '${s.canvas.id}' is already in use`;s.canvas.dataset.in_use=\"y\",b(s,t.change_mode)}))}function P(e,t,c){let n=document.createElement(\"input\");n.type=\"checkbox\",n.id=e;let o=document.createElement(\"label\");o.innerHTML=t,o.htmlFor=n.id;let a=document.createElement(\"br\");return c.appendChild(n),c.appendChild(o),c.appendChild(a),n}function T(e,t){let c=document.createElement(\"button\");c.innerHTML=e;let n=document.createElement(\"br\");return t.appendChild(c),t.appendChild(n),c}function I(e,t,c={}){M(e,function(e){let t=document.getElementById(e),c=t.getContext(\"2d\");return t.tabIndex=1,c}(t),c,null!=c.controls_id?function(e,t=function(){let e=\"\";for(let t=0;t<12;t++)e+=\"ABCDEFGHIJKLMNOPQRSTUVWXYZ0123456789\".charAt(Math.floor(36*Math.random()));return e}()){let c=document.getElementById(e);if(null==c)throw`controls_id '${e}' isn't valid`;return{controls_parent:c,circle_check:P(`${t}_circle_button`,\"Circle\",c),horizontal_check:P(`${t}_horizontal_button`,\"Horizontal\",c),vertical_check:P(`${t}_vertical_button`,\"Vertical\",c),revolve_imgs_button:T(\"Revolve Images\",c)}}(c.controls_id,c.key):void 0)}compare_view=n})();\n",
       "</script>\n",
       "\n",
       "<div style=\"display: flex; flex-direction: row; width: 100%;\">\n",
       "    <canvas id=\"canvas_2452099b-fc98-11ee-b0c4-2c27d71ab9a1\" style=\"height: 400px;\"></canvas>\n",
       "    \n",
       "        <div id=\"controls_2452099b-fc98-11ee-b0c4-2c27d71ab9a1\" style=\"width: auto; margin-right: 10px;\"></div>\n",
       "    \n",
       "</div>\n",
       "\n",
       "<script>\n",
       "    compare_view.load(\n",
       "        [\n",
       "    \"data:image/jpeg;base64,/9j/4AAQSkZJRgABAQEAZABkAAD/2wBDAAgGBgcGBQgHBwcJCQgKDBQNDAsLDBkSEw8UHRofHh0aHBwgJC4nICIsIxwcKDcpLDAxNDQ0Hyc5PTgyPC4zNDL/2wBDAQkJCQwLDBgNDRgyIRwhMjIyMjIyMjIyMjIyMjIyMjIyMjIyMjIyMjIyMjIyMjIyMjIyMjIyMjIyMjIyMjIyMjL/wAARCABkAGQDASIAAhEBAxEB/8QAHwAAAQUBAQEBAQEAAAAAAAAAAAECAwQFBgcICQoL/8QAtRAAAgEDAwIEAwUFBAQAAAF9AQIDAAQRBRIhMUEGE1FhByJxFDKBkaEII0KxwRVS0fAkM2JyggkKFhcYGRolJicoKSo0NTY3ODk6Q0RFRkdISUpTVFVWV1hZWmNkZWZnaGlqc3R1dnd4eXqDhIWGh4iJipKTlJWWl5iZmqKjpKWmp6ipqrKztLW2t7i5usLDxMXGx8jJytLT1NXW19jZ2uHi4+Tl5ufo6erx8vP09fb3+Pn6/8QAHwEAAwEBAQEBAQEBAQAAAAAAAAECAwQFBgcICQoL/8QAtREAAgECBAQDBAcFBAQAAQJ3AAECAxEEBSExBhJBUQdhcRMiMoEIFEKRobHBCSMzUvAVYnLRChYkNOEl8RcYGRomJygpKjU2Nzg5OkNERUZHSElKU1RVVldYWVpjZGVmZ2hpanN0dXZ3eHl6goOEhYaHiImKkpOUlZaXmJmaoqOkpaanqKmqsrO0tba3uLm6wsPExcbHyMnK0tPU1dbX2Nna4uPk5ebn6Onq8vP09fb3+Pn6/9oADAMBAAIRAxEAPwD5/ooooAKKKKACiiigAooooAKKKKACiiigAooooAKKKKACiiigAooooAKKKKACiiigAooooAKKKKACiiigAooooAKKKKACiiigAooooAKKKKACiiigAooooAKKKKACiiigAooooAKKKKACiiigAooooAKKKKACiiigAooooAKKKKACiiigAooooAKKKKACiiigAooooAKKKKACiiigAooooAKKKKACiiigAooooAKKKKACiiigAooooAKKKKACiiigAooooA//2Q==\",\n",
       "        \n",
       "    \"data:image/jpeg;base64,/9j/4AAQSkZJRgABAQEAZABkAAD/2wBDAAgGBgcGBQgHBwcJCQgKDBQNDAsLDBkSEw8UHRofHh0aHBwgJC4nICIsIxwcKDcpLDAxNDQ0Hyc5PTgyPC4zNDL/2wBDAQkJCQwLDBgNDRgyIRwhMjIyMjIyMjIyMjIyMjIyMjIyMjIyMjIyMjIyMjIyMjIyMjIyMjIyMjIyMjIyMjIyMjL/wAARCABkAGQDASIAAhEBAxEB/8QAHwAAAQUBAQEBAQEAAAAAAAAAAAECAwQFBgcICQoL/8QAtRAAAgEDAwIEAwUFBAQAAAF9AQIDAAQRBRIhMUEGE1FhByJxFDKBkaEII0KxwRVS0fAkM2JyggkKFhcYGRolJicoKSo0NTY3ODk6Q0RFRkdISUpTVFVWV1hZWmNkZWZnaGlqc3R1dnd4eXqDhIWGh4iJipKTlJWWl5iZmqKjpKWmp6ipqrKztLW2t7i5usLDxMXGx8jJytLT1NXW19jZ2uHi4+Tl5ufo6erx8vP09fb3+Pn6/8QAHwEAAwEBAQEBAQEBAQAAAAAAAAECAwQFBgcICQoL/8QAtREAAgECBAQDBAcFBAQAAQJ3AAECAxEEBSExBhJBUQdhcRMiMoEIFEKRobHBCSMzUvAVYnLRChYkNOEl8RcYGRomJygpKjU2Nzg5OkNERUZHSElKU1RVVldYWVpjZGVmZ2hpanN0dXZ3eHl6goOEhYaHiImKkpOUlZaXmJmaoqOkpaanqKmqsrO0tba3uLm6wsPExcbHyMnK0tPU1dbX2Nna4uPk5ebn6Onq8vP09fb3+Pn6/9oADAMBAAIRAxEAPwDx2iiivbPYCiiigAooooAKKKKACiiigAooooAKKKKACiiigAooooAKKKKACiiigAooooAKKKKACiiigAooooAKKKKACiiigAooooAKKKKACiiigAooooAKKKKACiiigAooooAKKKKACiiigAooooAKKKKACiiigAooooAKKKKACiiigAooooAKKKKACiiigAooooAKKKKACiiigAooooAKKKKACiiigAooooAKKKKACiiigAooooAKKKKACiiigAooooAKKKKAP//Z\",\n",
       "        ],\n",
       "    \"canvas_2452099b-fc98-11ee-b0c4-2c27d71ab9a1\",\n",
       "        {\"start_mode\": \"circle\", \"circumference_fraction\": 0.005, \"circle_fraction\": 0.2, \"show_circle\": true, \"revolve_imgs_on_click\": true, \"slider_fraction\": 0.01, \"slider_time\": 400, \"start_slider_pos\": 0.5, \"show_slider\": true, \"key\": \"2452099b-fc98-11ee-b0c4-2c27d71ab9a1\", \"controls_id\": \"controls_2452099b-fc98-11ee-b0c4-2c27d71ab9a1\"}\n",
       "    );\n",
       "</script>"
      ],
      "text/plain": [
       "<IPython.core.display.HTML object>"
      ]
     },
     "execution_count": 16,
     "metadata": {},
     "output_type": "execute_result"
    }
   ],
   "source": [
    "plot_compare(left_image*0.5+right_image*0.5, inpainted_disparity, height=400)"
   ]
  },
  {
   "cell_type": "code",
   "execution_count": 17,
   "id": "360beea5-a259-4559-99c5-153fad3d1b34",
   "metadata": {},
   "outputs": [
    {
     "data": {
      "text/html": [
       "<script>\n",
       "    var compare_view;(()=>{\"use strict\";var e,t,c={d:(e,t)=>{for(var n in t)c.o(t,n)&&!c.o(e,n)&&Object.defineProperty(e,n,{enumerable:!0,get:t[n]})},o:(e,t)=>Object.prototype.hasOwnProperty.call(e,t),r:e=>{\"undefined\"!=typeof Symbol&&Symbol.toStringTag&&Object.defineProperty(e,Symbol.toStringTag,{value:\"Module\"}),Object.defineProperty(e,\"__esModule\",{value:!0})}},n={};function o(e){var t,c;let n=null===(t=e[0])||void 0===t?void 0:t.element.width,o=null===(c=e[0])||void 0===c?void 0:c.element.height;for(let t of e)t.element.width==n&&t.element.height==o||console.log(\"Warning: images don't have the same resolution\"),n=Math.max(n,t.element.width),o=Math.max(o,t.element.height);return[n,o]}function a(e){return e.images.unshift(e.images.pop()),!0}function i(e,c,n){c.onchange=()=>{c.checked?(e.next_mode=n,b(e,t.change_mode)):r(e)}}function r(t){var c;if(null!=t.ctrl_data)switch((c=t.ctrl_data).circle_check.checked=!1,c.horizontal_check.checked=!1,c.vertical_check.checked=!1,t.current_mode){case e.circle:t.ctrl_data.circle_check.checked=!0;break;case e.horizontal:t.ctrl_data.horizontal_check.checked=!0;break;case e.vertical:t.ctrl_data.vertical_check.checked=!0;break;default:throw`unsupported mode: ${t.current_mode}`}}function s(e,t){let c=e.canvas.getBoundingClientRect(),n=e.width/c.width,o=e.height/c.height;e.mouse_pos=[(t.clientX-c.left)*n,(t.clientY-c.top)*o]}function l(e){return e.render_circle=!0,e.canvas.style.cursor=\"none\",!1}function u(e){return x(e,t.update_circle),e.canvas.style.cursor=\"default\",!0}function d(e,t,c){e.ctx.beginPath(),e.ctx.arc(e.mouse_pos[0],e.mouse_pos[1],e.circle_size,t,c),c-t!=2*Math.PI&&e.ctx.lineTo(e.mouse_pos[0],e.mouse_pos[1]),e.ctx.closePath()}function _(e,t,c,n){var o;d(e,c,n),e.ctx.save(),e.ctx.clip(),e.ctx.drawImage(null===(o=e.images[t])||void 0===o?void 0:o.element,0,0,e.width,e.height),e.ctx.restore(),e.show_circle&&(d(e,c,n),e.ctx.strokeStyle=\"black\",e.ctx.lineWidth=e.circumference_thickness,e.ctx.stroke())}function h(c,n){return b(c,t.update_slider),c.start_timestamp=n,c.start_pos=c.slider_pos,c.current_mode==e.horizontal?c.target_pos=c.mouse_pos[0]/c.width:c.target_pos=c.mouse_pos[1]/c.height,!0}function m(t,c){return t.held_down&&(t.current_mode==e.horizontal?t.target_pos=t.mouse_pos[0]/t.width:t.target_pos=t.mouse_pos[1]/t.height,t.start_pos=t.target_pos,t.slider_pos=t.target_pos),!0}function v(e,t){let c=(t-e.start_timestamp)/e.slider_time;return c=Math.min(Math.max(c,0),1),c=e.rate_function(c),e.slider_pos=(1-c)*e.start_pos+c*e.target_pos,e.slider_pos==e.target_pos}function p(c){switch(c.current_mode){case e.undefined:break;case e.circle:!function(e){e.canvas.onmousemove=null,e.canvas.onmouseleave=null,e.canvas.ontouchstart=null,e.canvas.onmousedown=null,e.canvas.onfocus=null,e.canvas.onblur=null,e.canvas.style.cursor=\"default\",document.body.style.userSelect=\"text\",e.touching=!1,b(e,t.remove_circle)}(c);break;case e.horizontal:case e.vertical:!function(e){e.canvas.onmousedown=null,e.canvas.onmouseup=null,document.onmouseup=null,e.canvas.onmouseup=null,e.canvas.onmousemove=null,e.canvas.onmouseenter=null,e.canvas.onmouseleave=null,e.canvas.onfocus=null,e.canvas.onblur=null,e.held_down=!1,e.canvas.style.cursor=\"default\",document.body.style.userSelect=\"text\"}(c);break;default:throw`unsupported mode: ${c.current_mode}`}}function g(c){switch(c.current_mode=c.next_mode,c.next_mode){case e.circle:!function(e){e.canvas.onmousemove=c=>{s(e,c),b(e,t.update_circle)},e.canvas.onmouseleave=()=>{b(e,t.remove_circle)},e.revolve_imgs_on_click&&(e.canvas.ontouchstart=()=>{e.touching=!0},e.canvas.onmousedown=()=>{e.touching||b(e,t.revolve_imgs)}),e.canvas.matches(\":hover\")&&b(e,t.update_circle),e.canvas.onfocus=()=>{document.body.style.userSelect=\"none\"},e.canvas.onblur=()=>{document.body.style.userSelect=\"text\",e.touching=!1}}(c);break;case e.horizontal:case e.vertical:!function(c){c.canvas.onmousedown=()=>{c.held_down=!0,b(c,t.start_slider_move)},c.canvas.onmouseup=()=>{c.held_down=!1},document.onmouseup=()=>{c.held_down=!1},c.canvas.onmousemove=e=>{s(c,e),b(c,t.possible_instant_slide)},c.current_mode==e.horizontal?c.canvas.onmouseenter=()=>{c.canvas.style.cursor=\"ew-resize\"}:c.canvas.onmouseenter=()=>{c.canvas.style.cursor=\"ns-resize\"},c.canvas.onmouseleave=()=>{c.canvas.style.cursor=\"default\"},c.canvas.onfocus=()=>{document.body.style.userSelect=\"none\"},c.canvas.onblur=()=>{document.body.style.userSelect=\"text\"}}(c);break;default:throw`unsupported mode: ${c.current_mode}`}r(c)}function f(e){return p(e),g(e),!0}function w(c,n){!function(e,c){let n=[];for(;e.task_stack.length;){let o,i=e.task_stack.pop();switch(i){case t.none:o=!0;break;case t.change_mode:o=f(e);break;case t.revolve_imgs:o=a(e);break;case t.update_circle:o=l(e);break;case t.remove_circle:o=u(e);break;case t.start_slider_move:o=h(e,c);break;case t.possible_instant_slide:o=m(e);break;case t.update_slider:o=v(e,c);break;default:throw`unknown task: ${i}`}o||n.push(i)}e.task_stack=n}(c,n),function(t){switch(t.current_mode){case e.circle:!function(e){var t;if(e.render_circle){e.ctx.clearRect(0,0,e.width,e.height),function(e){var t;e.ctx.beginPath(),e.ctx.arc(e.mouse_pos[0],e.mouse_pos[1],e.circle_size-1,0,2*Math.PI),e.ctx.lineTo(e.width,0),e.ctx.lineTo(0,0),e.ctx.lineTo(0,e.height),e.ctx.lineTo(e.width,e.height),e.ctx.lineTo(e.width,0),e.ctx.closePath(),e.ctx.save(),e.ctx.clip(),e.ctx.drawImage(null===(t=e.images[0])||void 0===t?void 0:t.element,0,0,e.width,e.height),e.ctx.restore()}(e);for(let t=1;t<e.images_len;++t)_(e,t,(t-1)*Math.PI*2/(e.images_len-1),t*Math.PI*2/(e.images_len-1))}else e.ctx.clearRect(0,0,e.width,e.height),e.ctx.drawImage(null===(t=e.images[0])||void 0===t?void 0:t.element,0,0,e.width,e.height);e.render_circle=!1}(t);break;case e.horizontal:case e.vertical:!function(t){var c;t.ctx.clearRect(0,0,t.width,t.height),t.ctx.drawImage(null===(c=t.images[0])||void 0===c?void 0:c.element,0,0,t.width,t.height),t.show_slider&&function(t){t.ctx.beginPath(),t.current_mode==e.horizontal?(t.ctx.moveTo(t.slider_pos*t.width,0),t.ctx.lineTo(t.slider_pos*t.width,t.height)):(t.ctx.moveTo(0,t.slider_pos*t.height),t.ctx.lineTo(t.width,t.slider_pos*t.height)),t.ctx.closePath(),t.ctx.strokeStyle=\"black\",t.ctx.lineWidth=t.slider_thickness,t.ctx.stroke()}(t),function(t){var c;t.ctx.beginPath(),t.current_mode==e.horizontal?t.ctx.rect(t.slider_pos*t.width,0,t.width,t.height):t.ctx.rect(0,t.slider_pos*t.height,t.width,t.height),t.ctx.closePath(),t.ctx.save(),t.ctx.clip(),t.ctx.clearRect(0,0,t.width,t.height),t.ctx.drawImage(null===(c=t.images[1])||void 0===c?void 0:c.element,0,0,t.width,t.height),t.ctx.restore()}(t)}(t);break;default:throw`unsupported mode: ${t.current_mode}`}}(c),c.task_stack.length?k(c):c.next_update_queued=!1}function k(e){e.next_update_queued=!0,window.requestAnimationFrame((t=>{w(e,t)}))}function x(e,t){let c=e.task_stack.indexOf(t);-1!=c&&e.task_stack.splice(c,1)}function b(e,t){x(e,t),e.task_stack.push(t),function(e){e.next_update_queued||k(e)}(e)}c.r(n),c.d(n,{load:()=>I}),function(e){e[void 0]=\"undefined\",e.horizontal=\"horizontal\",e.vertical=\"vertical\",e.circle=\"circle\"}(e||(e={})),function(e){e[e.none=0]=\"none\",e[e.revolve_imgs=1]=\"revolve_imgs\",e[e.change_mode=2]=\"change_mode\",e[e.update_circle=3]=\"update_circle\",e[e.remove_circle=4]=\"remove_circle\",e[e.start_slider_move=5]=\"start_slider_move\",e[e.possible_instant_slide=6]=\"possible_instant_slide\",e[e.update_slider=7]=\"update_slider\"}(t||(t={}));const y={start_mode:e.circle,circumference_fraction:.005,circle_size:void 0,circle_fraction:.2,show_circle:!0,revolve_imgs_on_click:!0,slider_fraction:.01,slider_time:400,rate_function:function(e){return e<.5?4*e*e*e:1-Math.pow(-2*e+2,3)/2},start_slider_pos:.5,show_slider:!0};function z(e,t){return null!=e[t]?e[t]:y[t]}function M(c,n,a,r){!function(e,t){if(e.length<2)throw`image_urls must contain at least two images, not ${e.length}`;let c=[],n=0,a=e.length;for(let i=0;i<a;++i){let r={url:e[i],element:document.createElement(\"img\"),label:`${i}`};c.push(r),r.element.onload=()=>{++n,n==a&&t(c,o(c))},r.element.src=r.url}}(c,((c,o)=>{let s={images:c,images_len:c.length,canvas:n.canvas,ctx:n,width:0,height:0,ctrl_data:r,mouse_pos:[0,0],held_down:!1,next_mode:z(a,\"start_mode\"),current_mode:e.undefined,task_stack:[],next_update_queued:!1,circumference_thickness:0,render_circle:!1,circle_size:0,show_circle:z(a,\"show_circle\"),revolve_imgs_on_click:z(a,\"revolve_imgs_on_click\"),touching:!1,slider_thickness:0,slider_pos:z(a,\"start_slider_pos\"),slider_time:z(a,\"slider_time\"),rate_function:z(a,\"rate_function\"),show_slider:z(a,\"show_slider\"),start_timestamp:0,start_pos:0,target_pos:0};if(function(c){null!=c.ctrl_data&&(i(c,c.ctrl_data.circle_check,e.circle),i(c,c.ctrl_data.horizontal_check,e.horizontal),i(c,c.ctrl_data.vertical_check,e.vertical),c.ctrl_data.revolve_imgs_button.onclick=()=>{b(c,t.revolve_imgs)})}(s),function(e,t,c){e.canvas.width=t[0],e.canvas.height=t[1],e.width=e.canvas.width,e.height=e.canvas.height,function(e,t){let c=Math.max(e.canvas.width,e.canvas.height);e.circumference_thickness=c*z(t,\"circumference_fraction\"),e.circle_size=null!=t.circle_size?t.circle_size:c*z(t,\"circle_fraction\"),e.slider_thickness=c*z(t,\"slider_fraction\")}(e,c)}(s,o,a),\"y\"===s.canvas.dataset.in_use)throw`the canvas with the id '${s.canvas.id}' is already in use`;s.canvas.dataset.in_use=\"y\",b(s,t.change_mode)}))}function P(e,t,c){let n=document.createElement(\"input\");n.type=\"checkbox\",n.id=e;let o=document.createElement(\"label\");o.innerHTML=t,o.htmlFor=n.id;let a=document.createElement(\"br\");return c.appendChild(n),c.appendChild(o),c.appendChild(a),n}function T(e,t){let c=document.createElement(\"button\");c.innerHTML=e;let n=document.createElement(\"br\");return t.appendChild(c),t.appendChild(n),c}function I(e,t,c={}){M(e,function(e){let t=document.getElementById(e),c=t.getContext(\"2d\");return t.tabIndex=1,c}(t),c,null!=c.controls_id?function(e,t=function(){let e=\"\";for(let t=0;t<12;t++)e+=\"ABCDEFGHIJKLMNOPQRSTUVWXYZ0123456789\".charAt(Math.floor(36*Math.random()));return e}()){let c=document.getElementById(e);if(null==c)throw`controls_id '${e}' isn't valid`;return{controls_parent:c,circle_check:P(`${t}_circle_button`,\"Circle\",c),horizontal_check:P(`${t}_horizontal_button`,\"Horizontal\",c),vertical_check:P(`${t}_vertical_button`,\"Vertical\",c),revolve_imgs_button:T(\"Revolve Images\",c)}}(c.controls_id,c.key):void 0)}compare_view=n})();\n",
       "</script>\n",
       "\n",
       "<div style=\"display: flex; flex-direction: row; width: 100%;\">\n",
       "    <canvas id=\"canvas_24541c62-fc98-11ee-9782-2c27d71ab9a1\" style=\"height: 400px;\"></canvas>\n",
       "    \n",
       "        <div id=\"controls_24541c62-fc98-11ee-9782-2c27d71ab9a1\" style=\"width: auto; margin-right: 10px;\"></div>\n",
       "    \n",
       "</div>\n",
       "\n",
       "<script>\n",
       "    compare_view.load(\n",
       "        [\n",
       "    \"data:image/jpeg;base64,/9j/4AAQSkZJRgABAQEAZABkAAD/2wBDAAgGBgcGBQgHBwcJCQgKDBQNDAsLDBkSEw8UHRofHh0aHBwgJC4nICIsIxwcKDcpLDAxNDQ0Hyc5PTgyPC4zNDL/2wBDAQkJCQwLDBgNDRgyIRwhMjIyMjIyMjIyMjIyMjIyMjIyMjIyMjIyMjIyMjIyMjIyMjIyMjIyMjIyMjIyMjIyMjL/wAARCABkAGQDASIAAhEBAxEB/8QAHwAAAQUBAQEBAQEAAAAAAAAAAAECAwQFBgcICQoL/8QAtRAAAgEDAwIEAwUFBAQAAAF9AQIDAAQRBRIhMUEGE1FhByJxFDKBkaEII0KxwRVS0fAkM2JyggkKFhcYGRolJicoKSo0NTY3ODk6Q0RFRkdISUpTVFVWV1hZWmNkZWZnaGlqc3R1dnd4eXqDhIWGh4iJipKTlJWWl5iZmqKjpKWmp6ipqrKztLW2t7i5usLDxMXGx8jJytLT1NXW19jZ2uHi4+Tl5ufo6erx8vP09fb3+Pn6/8QAHwEAAwEBAQEBAQEBAQAAAAAAAAECAwQFBgcICQoL/8QAtREAAgECBAQDBAcFBAQAAQJ3AAECAxEEBSExBhJBUQdhcRMiMoEIFEKRobHBCSMzUvAVYnLRChYkNOEl8RcYGRomJygpKjU2Nzg5OkNERUZHSElKU1RVVldYWVpjZGVmZ2hpanN0dXZ3eHl6goOEhYaHiImKkpOUlZaXmJmaoqOkpaanqKmqsrO0tba3uLm6wsPExcbHyMnK0tPU1dbX2Nna4uPk5ebn6Onq8vP09fb3+Pn6/9oADAMBAAIRAxEAPwDx2iiivbPYCiiigAooooAKKKKACiiigAooooAKKKKACiiigAooooAKKKKACiiigAooooAKKKKACiiigAooooAKKKKACiiigAooooAKKKKACiiigAooooAKKKKACiiigAooooAKKKKACiiigAooooAKKKKACiiigAooooAKKKKACiiigAooooAKKKKACiiigAooooAKKKKACiiigAooooAKKKKACiiigAooooAKKKKACiiigAooooAKKKKACiiigAooooAKKKKAP//Z\",\n",
       "        \n",
       "    \"data:image/jpeg;base64,/9j/4AAQSkZJRgABAQEAZABkAAD/2wBDAAgGBgcGBQgHBwcJCQgKDBQNDAsLDBkSEw8UHRofHh0aHBwgJC4nICIsIxwcKDcpLDAxNDQ0Hyc5PTgyPC4zNDL/2wBDAQkJCQwLDBgNDRgyIRwhMjIyMjIyMjIyMjIyMjIyMjIyMjIyMjIyMjIyMjIyMjIyMjIyMjIyMjIyMjIyMjIyMjL/wAARCABkAGQDASIAAhEBAxEB/8QAHwAAAQUBAQEBAQEAAAAAAAAAAAECAwQFBgcICQoL/8QAtRAAAgEDAwIEAwUFBAQAAAF9AQIDAAQRBRIhMUEGE1FhByJxFDKBkaEII0KxwRVS0fAkM2JyggkKFhcYGRolJicoKSo0NTY3ODk6Q0RFRkdISUpTVFVWV1hZWmNkZWZnaGlqc3R1dnd4eXqDhIWGh4iJipKTlJWWl5iZmqKjpKWmp6ipqrKztLW2t7i5usLDxMXGx8jJytLT1NXW19jZ2uHi4+Tl5ufo6erx8vP09fb3+Pn6/8QAHwEAAwEBAQEBAQEBAQAAAAAAAAECAwQFBgcICQoL/8QAtREAAgECBAQDBAcFBAQAAQJ3AAECAxEEBSExBhJBUQdhcRMiMoEIFEKRobHBCSMzUvAVYnLRChYkNOEl8RcYGRomJygpKjU2Nzg5OkNERUZHSElKU1RVVldYWVpjZGVmZ2hpanN0dXZ3eHl6goOEhYaHiImKkpOUlZaXmJmaoqOkpaanqKmqsrO0tba3uLm6wsPExcbHyMnK0tPU1dbX2Nna4uPk5ebn6Onq8vP09fb3+Pn6/9oADAMBAAIRAxEAPwDx2iiivbPYCiiigAooooAKKKKACiiigAooooAKKKKACiiigAooooAKKKKACiiigAooooAKKKKACiiigAooooAKKKKACiiigAooooAKKKKACiiigAooooAKKKKACiiigAooooAKKKKACiiigAooooAKKKKACiiigAooooAKKKKACiiigAooooAKKKKACiiigAooooAKKKKACiiigAooooAKKKKACiiigAooooAKKKKACiiigAooooAKKKKACiiigAooooAKKKKAP//Z\",\n",
       "        ],\n",
       "    \"canvas_24541c62-fc98-11ee-9782-2c27d71ab9a1\",\n",
       "        {\"start_mode\": \"circle\", \"circumference_fraction\": 0.005, \"circle_fraction\": 0.2, \"show_circle\": true, \"revolve_imgs_on_click\": true, \"slider_fraction\": 0.01, \"slider_time\": 400, \"start_slider_pos\": 0.5, \"show_slider\": true, \"key\": \"24541c62-fc98-11ee-9782-2c27d71ab9a1\", \"controls_id\": \"controls_24541c62-fc98-11ee-9782-2c27d71ab9a1\"}\n",
       "    );\n",
       "</script>"
      ],
      "text/plain": [
       "<IPython.core.display.HTML object>"
      ]
     },
     "execution_count": 17,
     "metadata": {},
     "output_type": "execute_result"
    }
   ],
   "source": [
    "plot_compare(inpainted_disparity, left_disparity, height=400)"
   ]
  },
  {
   "cell_type": "markdown",
   "id": "dbfda732-9ecc-416e-b429-f493aeecc574",
   "metadata": {},
   "source": [
    "## Task 4 - Evaluation (25 points)\n",
    "- Compute the mean difference and the accuracy of the results. (5 Points)\n",
    "- Compare the results from the different tasks, by showing them side-by-side additionally to the ground truth and by comparing the metrics applied to the results. (5 Points)\n",
    "- Repeat those steps with two other images from the middlebury dataset. (10 Points)\n",
    "- Discuss the results. (5 Points)\n"
   ]
  },
  {
   "cell_type": "markdown",
   "id": "b83b5030-2a1b-486b-869f-3808afbcbdf6",
   "metadata": {},
   "source": [
    "#### Compute the mean difference and accuracy of the results\n"
   ]
  },
  {
   "cell_type": "code",
   "execution_count": 18,
   "id": "1182719f-5466-46c7-af52-9133df8ecd67",
   "metadata": {},
   "outputs": [],
   "source": [
    "# TODO: load ground truth and compute metrics"
   ]
  },
  {
   "cell_type": "markdown",
   "id": "7b796ac8-ddcb-4365-9e17-6c30ee845413",
   "metadata": {},
   "source": [
    "#### Compare the results from the different tasks"
   ]
  },
  {
   "cell_type": "code",
   "execution_count": 19,
   "id": "9c3c7680-111b-480f-9bcf-548cddf291ed",
   "metadata": {},
   "outputs": [],
   "source": [
    "# TODO: display the disparity maps from the different tasks as well as the ground truth\n",
    "\n",
    "# TODO: calculate the evaluation metrics for each of the results \n"
   ]
  },
  {
   "cell_type": "markdown",
   "id": "0f322f84-e460-41a1-a400-45d141b19607",
   "metadata": {},
   "source": [
    "#### Repeat those steps with two other images from the middlebury dataset"
   ]
  },
  {
   "cell_type": "code",
   "execution_count": 20,
   "id": "897216b7-867c-4c94-97a6-89d938952697",
   "metadata": {},
   "outputs": [],
   "source": [
    "# TODO: implement the evaluation of two additional images\n"
   ]
  },
  {
   "cell_type": "markdown",
   "id": "179a4292-17b6-4c3c-9e23-400d07042a82",
   "metadata": {},
   "source": [
    "#### Discuss the results"
   ]
  },
  {
   "cell_type": "markdown",
   "id": "08fb0c2c-9c90-4697-b768-005b84f7822e",
   "metadata": {},
   "source": [
    "TODO: Discuss the results here"
   ]
  }
 ],
 "metadata": {
  "kernelspec": {
   "display_name": "Python 3 (ipykernel)",
   "language": "python",
   "name": "python3"
  },
  "language_info": {
   "codemirror_mode": {
    "name": "ipython",
    "version": 3
   },
   "file_extension": ".py",
   "mimetype": "text/x-python",
   "name": "python",
   "nbconvert_exporter": "python",
   "pygments_lexer": "ipython3",
   "version": "3.11.9"
  }
 },
 "nbformat": 4,
 "nbformat_minor": 5
}
